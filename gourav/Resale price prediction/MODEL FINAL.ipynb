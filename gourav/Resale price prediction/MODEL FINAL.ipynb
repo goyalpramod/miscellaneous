{
 "cells": [
  {
   "cell_type": "code",
   "execution_count": 2,
   "id": "c08daf41",
   "metadata": {},
   "outputs": [],
   "source": [
    "import numpy as np\n",
    "import pandas as pd\n",
    "import matplotlib.pyplot as plt\n",
    "import seaborn as sns\n",
    "%matplotlib inline"
   ]
  },
  {
   "cell_type": "code",
   "execution_count": 3,
   "id": "a9f9dae4",
   "metadata": {},
   "outputs": [
    {
     "name": "stderr",
     "output_type": "stream",
     "text": [
      "C:\\ProgramData\\Anaconda3\\lib\\site-packages\\IPython\\core\\interactiveshell.py:3165: DtypeWarning: Columns (3,18) have mixed types.Specify dtype option on import or set low_memory=False.\n",
      "  has_raised = await self.run_ast_nodes(code_ast.body, cell_name,\n"
     ]
    }
   ],
   "source": [
    "df_test = pd.read_csv(\"test_data.csv\")\n",
    "df_train = pd.read_csv(\"train_data.csv\")\n",
    "df_test_prediction = pd.read_csv(\"test_data_prediction.csv\")"
   ]
  },
  {
   "cell_type": "code",
   "execution_count": 4,
   "id": "3f475bd1",
   "metadata": {},
   "outputs": [],
   "source": [
    "df_test_prediction = df_test_prediction['v39']"
   ]
  },
  {
   "cell_type": "code",
   "execution_count": 5,
   "id": "dcd2db19",
   "metadata": {},
   "outputs": [],
   "source": [
    "def drop_columns(df):\n",
    "    df = df.drop({\"v1\",\"v2\",\"v4\",\"v19\"}, axis=1)\n",
    "    \n",
    "    return df"
   ]
  },
  {
   "cell_type": "code",
   "execution_count": 6,
   "id": "2f7cd8a8",
   "metadata": {},
   "outputs": [],
   "source": [
    "# Fixing categorical data \n",
    "def categorical_to_numerical(df):\n",
    "    cleanup_nums =     {\"v5\": {\"ASC\" : 1, \"DEALER\" : 0},\n",
    "                        \"v11\": {\"P\": 0, \"A\": 1, \"G\": 2},\n",
    "                        \"v12\": {\"P\": 0, \"A\": 1, \"G\": 2},\n",
    "                        \"v13\": {\"P\": 0, \"A\": 1, \"G\": 2},\n",
    "                        \"v14\": {\"P\": 0, \"A\": 1, \"G\": 2},\n",
    "                        \"v37\": {\"N\": 0, \"Y\": 1},\n",
    "                        \"v38\": {\"NO\": 0, \"YES\": 1}\n",
    "                        }\n",
    "    df = df.replace(cleanup_nums)\n",
    "    \n",
    "    return df"
   ]
  },
  {
   "cell_type": "code",
   "execution_count": 7,
   "id": "dafe974a",
   "metadata": {},
   "outputs": [],
   "source": [
    "def impute_columns(df_train_imputedValues):\n",
    "    df_train_imputedValues = df_train_imputedValues.fillna(df_train_imputedValues[\"v10\"].mode()[0])\n",
    "    df_train_imputedValues = df_train_imputedValues.fillna(df_train_imputedValues['v11'].mode()[0])\n",
    "    df_train_imputedValues = df_train_imputedValues.fillna(df_train_imputedValues['v12'].mode()[0])\n",
    "    df_train_imputedValues = df_train_imputedValues.fillna(df_train_imputedValues['v13'].mode()[0])\n",
    "    df_train_imputedValues = df_train_imputedValues.fillna(df_train_imputedValues['v14'].mode()[0])\n",
    "    df_train_imputedValues = df_train_imputedValues.fillna(df_train_imputedValues['v17'].mode()[0])\n",
    "    df_train_imputedValues = df_train_imputedValues.fillna(df_train_imputedValues['v18'].mode()[0])\n",
    "    df_train_imputedValues = df_train_imputedValues.fillna(df_train_imputedValues['v24'].mode()[0])\n",
    "    df_train_imputedValues = df_train_imputedValues.fillna(df_train_imputedValues['v32'].mode()[0])\n",
    "    df_train_imputedValues = df_train_imputedValues.fillna(df_train_imputedValues['v33'].mode()[0])\n",
    "    df_train_imputedValues = df_train_imputedValues.fillna(df_train_imputedValues['v34'].mode()[0])\n",
    "    df_train_imputedValues = df_train_imputedValues.fillna(df_train_imputedValues['v35'].mode()[0])\n",
    "    df_train_imputedValues = df_train_imputedValues.fillna(df_train_imputedValues['v36'].mode()[0])\n",
    "    \n",
    "    return df_train_imputedValues"
   ]
  },
  {
   "cell_type": "code",
   "execution_count": 8,
   "id": "02e262a9",
   "metadata": {},
   "outputs": [],
   "source": [
    "from scipy.stats import norm, skew \n",
    "\n",
    "def fix_skew(df):\n",
    "    from scipy.special import boxcox1p\n",
    "    skewed_features = [\"v32\",\"v34\",\"v27\",\"v24\",\"v38\",\"v33\",\"v29\",\"v10\",\"v15\",\"v7\",]\n",
    "    lam = 0.15\n",
    "    for feat in skewed_features:\n",
    "        #all_data[feat] += 1\n",
    "        df[feat] = boxcox1p(df[feat], lam)\n",
    "        \n",
    "    return df"
   ]
  },
  {
   "cell_type": "code",
   "execution_count": 9,
   "id": "167201ee",
   "metadata": {},
   "outputs": [],
   "source": [
    "df_train = drop_columns(df_train)\n",
    "df_train= categorical_to_numerical(df_train)\n",
    "df_train = impute_columns(df_train)\n",
    "df_train = fix_skew(df_train)"
   ]
  },
  {
   "cell_type": "code",
   "execution_count": 10,
   "id": "305411f2",
   "metadata": {},
   "outputs": [],
   "source": [
    "df_test = drop_columns(df_test)\n",
    "df_test = categorical_to_numerical(df_test)\n",
    "df_test = impute_columns(df_test)\n",
    "df_test = fix_skew(df_test)"
   ]
  },
  {
   "cell_type": "code",
   "execution_count": 11,
   "id": "9b0b4dd9",
   "metadata": {},
   "outputs": [
    {
     "name": "stdout",
     "output_type": "stream",
     "text": [
      "X train shape:  (115786, 34)\n",
      "Y train shape:  (115786,)\n",
      "X test shape:  (11263, 34)\n",
      "Y test shape:  (11263,)\n"
     ]
    }
   ],
   "source": [
    "y_train = df_train['v39']\n",
    "X_train = df_train.drop(columns='v39')\n",
    "X_test = df_test\n",
    "y_test = df_test_prediction\n",
    "\n",
    "print('X train shape: ', X_train.shape)\n",
    "print('Y train shape: ', y_train.shape)\n",
    "print('X test shape: ', X_test.shape)\n",
    "print('Y test shape: ', y_test.shape)\n"
   ]
  },
  {
   "cell_type": "code",
   "execution_count": 13,
   "id": "3089ceb0",
   "metadata": {},
   "outputs": [],
   "source": [
    "from xgboost import XGBRegressor\n",
    "xgb = XGBRegressor()\n",
    "xgb.fit(X_train, y_train)\n",
    "y_pred=xgb.predict(X_test)"
   ]
  },
  {
   "cell_type": "code",
   "execution_count": 14,
   "id": "2bac6004",
   "metadata": {},
   "outputs": [
    {
     "name": "stdout",
     "output_type": "stream",
     "text": [
      "Fitting 2 folds for each of 1 candidates, totalling 2 fits\n",
      "[12:50:58] WARNING: C:/Users/Administrator/workspace/xgboost-win64_release_1.6.0/src/objective/regression_obj.cu:203: reg:linear is now deprecated in favor of reg:squarederror.\n",
      "[12:50:58] WARNING: C:/Users/Administrator/workspace/xgboost-win64_release_1.6.0/src/learner.cc:627: \n",
      "Parameters: { \"silent\" } might not be used.\n",
      "\n",
      "  This could be a false alarm, with some parameters getting used by language bindings but\n",
      "  then being mistakenly passed down to XGBoost core, or some parameter actually being used\n",
      "  but getting flagged wrongly here. Please open an issue if you find any such cases.\n",
      "\n",
      "\n",
      "0.6268174327511986\n",
      "{'colsample_bytree': 0.5, 'learning_rate': 0.07, 'max_depth': 9, 'min_child_weight': 1, 'n_estimators': 1500, 'nthread': 4, 'objective': 'reg:linear', 'silent': 1, 'subsample': 1}\n"
     ]
    }
   ],
   "source": [
    "from sklearn.model_selection import RandomizedSearchCV, GridSearchCV\n",
    "from sklearn.metrics import roc_auc_score\n",
    "from sklearn.model_selection import StratifiedKFold\n",
    "# from xgboost import XGBClassifier\n",
    "\n",
    "parameters = {'nthread':[4], #when use hyperthread, xgboost may become slower\n",
    "              'objective':['reg:linear'],\n",
    "              'learning_rate': [.07], #so called `eta` value\n",
    "              'max_depth': [9],\n",
    "              'min_child_weight': [1],\n",
    "              'silent': [1],\n",
    "              'subsample': [1],\n",
    "              'colsample_bytree': [0.5],\n",
    "              'n_estimators': [1500]}\n",
    "\n",
    "xgb_grid = GridSearchCV(xgb,\n",
    "                        parameters,\n",
    "                        cv = 2,\n",
    "                        n_jobs = 5,\n",
    "                        verbose=True)\n",
    "\n",
    "xgb_grid.fit(X_train,\n",
    "         y_train)\n",
    "\n",
    "print(xgb_grid.best_score_)\n",
    "print(xgb_grid.best_params_) "
   ]
  },
  {
   "cell_type": "code",
   "execution_count": 15,
   "id": "d9e02a34",
   "metadata": {},
   "outputs": [
    {
     "name": "stdout",
     "output_type": "stream",
     "text": [
      "\t\tError Table\n",
      "Mean Absolute Error      :  5032.400503602087\n",
      "Mean Squared  Error      :  45792484.38974433\n",
      "Root Mean Squared  Error :  6767.0144369392565\n",
      "R Squared Error          :  0.8099829016758902\n"
     ]
    }
   ],
   "source": [
    "y_pred=xgb_grid.predict(X_test)\n",
    "\n",
    "from sklearn import metrics\n",
    "from sklearn.metrics import mean_squared_error, mean_absolute_error\n",
    "\n",
    "print(\"\\t\\tError Table\")\n",
    "print('Mean Absolute Error      : ', metrics.mean_absolute_error(y_test, y_pred))\n",
    "print('Mean Squared  Error      : ', metrics.mean_squared_error(y_test, y_pred))\n",
    "print('Root Mean Squared  Error : ', np.sqrt(metrics.mean_squared_error(y_test, y_pred)))\n",
    "print('R Squared Error          : ', metrics.r2_score(y_test, y_pred))"
   ]
  },
  {
   "cell_type": "code",
   "execution_count": 17,
   "id": "99766c19",
   "metadata": {},
   "outputs": [
    {
     "name": "stdout",
     "output_type": "stream",
     "text": [
      "model saved\n"
     ]
    }
   ],
   "source": [
    "import joblib\n",
    "\n",
    "#save your model or results\n",
    "joblib.dump(xgb_grid, 'model.pkl')\n",
    "print(\"model saved\")\n",
    "\n",
    "#load your model for further usage\n",
    "# joblib.load(\"model_file_name.pkl\")"
   ]
  },
  {
   "cell_type": "code",
   "execution_count": null,
   "id": "b1358859",
   "metadata": {},
   "outputs": [],
   "source": []
  },
  {
   "cell_type": "code",
   "execution_count": null,
   "id": "8077c942",
   "metadata": {},
   "outputs": [],
   "source": []
  },
  {
   "cell_type": "code",
   "execution_count": null,
   "id": "23c6259c",
   "metadata": {},
   "outputs": [],
   "source": []
  },
  {
   "cell_type": "code",
   "execution_count": null,
   "id": "284c5ef7",
   "metadata": {},
   "outputs": [],
   "source": []
  },
  {
   "cell_type": "code",
   "execution_count": null,
   "id": "9a3a38bf",
   "metadata": {},
   "outputs": [],
   "source": []
  },
  {
   "cell_type": "code",
   "execution_count": null,
   "id": "16b21711",
   "metadata": {},
   "outputs": [],
   "source": []
  },
  {
   "cell_type": "code",
   "execution_count": null,
   "id": "d613991f",
   "metadata": {},
   "outputs": [],
   "source": []
  },
  {
   "cell_type": "code",
   "execution_count": null,
   "id": "226009b4",
   "metadata": {},
   "outputs": [],
   "source": []
  },
  {
   "cell_type": "code",
   "execution_count": null,
   "id": "b7ab7cdd",
   "metadata": {},
   "outputs": [],
   "source": []
  },
  {
   "cell_type": "code",
   "execution_count": null,
   "id": "3d9af2d5",
   "metadata": {},
   "outputs": [],
   "source": []
  },
  {
   "cell_type": "code",
   "execution_count": null,
   "id": "d6e4ad18",
   "metadata": {},
   "outputs": [],
   "source": []
  },
  {
   "cell_type": "code",
   "execution_count": null,
   "id": "97ede4e6",
   "metadata": {},
   "outputs": [],
   "source": []
  },
  {
   "cell_type": "code",
   "execution_count": null,
   "id": "5c52d801",
   "metadata": {},
   "outputs": [],
   "source": []
  }
 ],
 "metadata": {
  "kernelspec": {
   "display_name": "Python 3",
   "language": "python",
   "name": "python3"
  },
  "language_info": {
   "codemirror_mode": {
    "name": "ipython",
    "version": 3
   },
   "file_extension": ".py",
   "mimetype": "text/x-python",
   "name": "python",
   "nbconvert_exporter": "python",
   "pygments_lexer": "ipython3",
   "version": "3.8.8"
  }
 },
 "nbformat": 4,
 "nbformat_minor": 5
}
