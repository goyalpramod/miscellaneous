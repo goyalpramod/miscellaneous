{
 "cells": [
  {
   "cell_type": "code",
   "execution_count": 1,
   "id": "7d4bd252",
   "metadata": {},
   "outputs": [],
   "source": [
    "import pandas as pd\n",
    "import matplotlib.pyplot as plt\n",
    "import seaborn as sns\n",
    "import numpy as np\n",
    "from scipy.stats import norm\n",
    "from sklearn.preprocessing import StandardScaler\n",
    "from scipy import stats\n",
    "from scipy.stats import norm, skew \n",
    "import warnings\n",
    "warnings.filterwarnings('ignore')\n",
    "%matplotlib inline"
   ]
  },
  {
   "cell_type": "code",
   "execution_count": 2,
   "id": "5c11d676",
   "metadata": {},
   "outputs": [],
   "source": [
    "sub = pd.read_csv('sample_submission.csv')"
   ]
  },
  {
   "cell_type": "code",
   "execution_count": 3,
   "id": "c3d677c6",
   "metadata": {},
   "outputs": [
    {
     "data": {
      "text/html": [
       "<div>\n",
       "<style scoped>\n",
       "    .dataframe tbody tr th:only-of-type {\n",
       "        vertical-align: middle;\n",
       "    }\n",
       "\n",
       "    .dataframe tbody tr th {\n",
       "        vertical-align: top;\n",
       "    }\n",
       "\n",
       "    .dataframe thead th {\n",
       "        text-align: right;\n",
       "    }\n",
       "</style>\n",
       "<table border=\"1\" class=\"dataframe\">\n",
       "  <thead>\n",
       "    <tr style=\"text-align: right;\">\n",
       "      <th></th>\n",
       "      <th>Property_ID</th>\n",
       "      <th>Habitability_score</th>\n",
       "    </tr>\n",
       "  </thead>\n",
       "  <tbody>\n",
       "    <tr>\n",
       "      <th>0</th>\n",
       "      <td>0x21e3</td>\n",
       "      <td>71.98</td>\n",
       "    </tr>\n",
       "    <tr>\n",
       "      <th>1</th>\n",
       "      <td>0x68d4</td>\n",
       "      <td>71.20</td>\n",
       "    </tr>\n",
       "    <tr>\n",
       "      <th>2</th>\n",
       "      <td>0x7d81</td>\n",
       "      <td>71.39</td>\n",
       "    </tr>\n",
       "    <tr>\n",
       "      <th>3</th>\n",
       "      <td>0x7a57</td>\n",
       "      <td>31.46</td>\n",
       "    </tr>\n",
       "    <tr>\n",
       "      <th>4</th>\n",
       "      <td>0x9409</td>\n",
       "      <td>93.70</td>\n",
       "    </tr>\n",
       "  </tbody>\n",
       "</table>\n",
       "</div>"
      ],
      "text/plain": [
       "  Property_ID  Habitability_score\n",
       "0      0x21e3               71.98\n",
       "1      0x68d4               71.20\n",
       "2      0x7d81               71.39\n",
       "3      0x7a57               31.46\n",
       "4      0x9409               93.70"
      ]
     },
     "execution_count": 3,
     "metadata": {},
     "output_type": "execute_result"
    }
   ],
   "source": [
    "sub.head(10)"
   ]
  },
  {
   "cell_type": "code",
   "execution_count": 2,
   "id": "22025e95",
   "metadata": {},
   "outputs": [],
   "source": [
    "df = pd.read_csv('train.csv')"
   ]
  },
  {
   "cell_type": "code",
   "execution_count": 3,
   "id": "b4120986",
   "metadata": {},
   "outputs": [],
   "source": [
    "test = pd.read_csv('test.csv')"
   ]
  },
  {
   "cell_type": "code",
   "execution_count": 5,
   "id": "29722e15",
   "metadata": {},
   "outputs": [],
   "source": [
    "# df.head()"
   ]
  },
  {
   "cell_type": "code",
   "execution_count": 6,
   "id": "bb7b1211",
   "metadata": {},
   "outputs": [],
   "source": [
    "y_train = df.Habitability_score.values"
   ]
  },
  {
   "cell_type": "code",
   "execution_count": 7,
   "id": "9f15f7a0",
   "metadata": {},
   "outputs": [],
   "source": [
    "# y_train"
   ]
  },
  {
   "cell_type": "code",
   "execution_count": 8,
   "id": "da08c9d3",
   "metadata": {},
   "outputs": [],
   "source": [
    "# test.head()"
   ]
  },
  {
   "cell_type": "code",
   "execution_count": 9,
   "id": "9438d79b",
   "metadata": {},
   "outputs": [],
   "source": [
    "# df.describe()"
   ]
  },
  {
   "cell_type": "code",
   "execution_count": 10,
   "id": "0c3d4253",
   "metadata": {},
   "outputs": [],
   "source": [
    "# df.info()"
   ]
  },
  {
   "cell_type": "code",
   "execution_count": 24,
   "id": "b30e9e5c",
   "metadata": {},
   "outputs": [],
   "source": [
    "df_to_train = df"
   ]
  },
  {
   "cell_type": "code",
   "execution_count": 25,
   "id": "0276cbd1",
   "metadata": {},
   "outputs": [],
   "source": [
    "def transform_df(df):\n",
    "    df['Dust_and_Noise'] = df['Dust_and_Noise'].fillna(df['Dust_and_Noise'].mode()[0])\n",
    "    df['Furnishing'] = df['Furnishing'].fillna(df['Furnishing'].mode()[0])\n",
    "    df['Crime_Rate'] = df['Crime_Rate'].fillna(df['Crime_Rate'].mode()[0])\n",
    "    df[\"Number_of_Windows\"] = df[\"Number_of_Windows\"].fillna(0)\n",
    "    df[\"Frequency_of_Powercuts\"] = df[\"Frequency_of_Powercuts\"].fillna(0)"
   ]
  },
  {
   "cell_type": "code",
   "execution_count": 26,
   "id": "96867d08",
   "metadata": {},
   "outputs": [],
   "source": [
    "transform_df(df_to_train)\n",
    "transform_df(test)"
   ]
  },
  {
   "cell_type": "code",
   "execution_count": 27,
   "id": "09dc2034",
   "metadata": {},
   "outputs": [
    {
     "data": {
      "text/html": [
       "<div>\n",
       "<style scoped>\n",
       "    .dataframe tbody tr th:only-of-type {\n",
       "        vertical-align: middle;\n",
       "    }\n",
       "\n",
       "    .dataframe tbody tr th {\n",
       "        vertical-align: top;\n",
       "    }\n",
       "\n",
       "    .dataframe thead th {\n",
       "        text-align: right;\n",
       "    }\n",
       "</style>\n",
       "<table border=\"1\" class=\"dataframe\">\n",
       "  <thead>\n",
       "    <tr style=\"text-align: right;\">\n",
       "      <th></th>\n",
       "      <th>Total</th>\n",
       "      <th>Percent</th>\n",
       "    </tr>\n",
       "  </thead>\n",
       "  <tbody>\n",
       "    <tr>\n",
       "      <th>Property_ID</th>\n",
       "      <td>0</td>\n",
       "      <td>0.0</td>\n",
       "    </tr>\n",
       "    <tr>\n",
       "      <th>Property_Type</th>\n",
       "      <td>0</td>\n",
       "      <td>0.0</td>\n",
       "    </tr>\n",
       "    <tr>\n",
       "      <th>Property_Area</th>\n",
       "      <td>0</td>\n",
       "      <td>0.0</td>\n",
       "    </tr>\n",
       "    <tr>\n",
       "      <th>Number_of_Windows</th>\n",
       "      <td>0</td>\n",
       "      <td>0.0</td>\n",
       "    </tr>\n",
       "    <tr>\n",
       "      <th>Number_of_Doors</th>\n",
       "      <td>0</td>\n",
       "      <td>0.0</td>\n",
       "    </tr>\n",
       "    <tr>\n",
       "      <th>Furnishing</th>\n",
       "      <td>0</td>\n",
       "      <td>0.0</td>\n",
       "    </tr>\n",
       "    <tr>\n",
       "      <th>Frequency_of_Powercuts</th>\n",
       "      <td>0</td>\n",
       "      <td>0.0</td>\n",
       "    </tr>\n",
       "    <tr>\n",
       "      <th>Power_Backup</th>\n",
       "      <td>0</td>\n",
       "      <td>0.0</td>\n",
       "    </tr>\n",
       "    <tr>\n",
       "      <th>Water_Supply</th>\n",
       "      <td>0</td>\n",
       "      <td>0.0</td>\n",
       "    </tr>\n",
       "    <tr>\n",
       "      <th>Traffic_Density_Score</th>\n",
       "      <td>0</td>\n",
       "      <td>0.0</td>\n",
       "    </tr>\n",
       "    <tr>\n",
       "      <th>Crime_Rate</th>\n",
       "      <td>0</td>\n",
       "      <td>0.0</td>\n",
       "    </tr>\n",
       "    <tr>\n",
       "      <th>Dust_and_Noise</th>\n",
       "      <td>0</td>\n",
       "      <td>0.0</td>\n",
       "    </tr>\n",
       "    <tr>\n",
       "      <th>Air_Quality_Index</th>\n",
       "      <td>0</td>\n",
       "      <td>0.0</td>\n",
       "    </tr>\n",
       "    <tr>\n",
       "      <th>Neighborhood_Review</th>\n",
       "      <td>0</td>\n",
       "      <td>0.0</td>\n",
       "    </tr>\n",
       "    <tr>\n",
       "      <th>Habitability_score</th>\n",
       "      <td>0</td>\n",
       "      <td>0.0</td>\n",
       "    </tr>\n",
       "  </tbody>\n",
       "</table>\n",
       "</div>"
      ],
      "text/plain": [
       "                        Total  Percent\n",
       "Property_ID                 0      0.0\n",
       "Property_Type               0      0.0\n",
       "Property_Area               0      0.0\n",
       "Number_of_Windows           0      0.0\n",
       "Number_of_Doors             0      0.0\n",
       "Furnishing                  0      0.0\n",
       "Frequency_of_Powercuts      0      0.0\n",
       "Power_Backup                0      0.0\n",
       "Water_Supply                0      0.0\n",
       "Traffic_Density_Score       0      0.0\n",
       "Crime_Rate                  0      0.0\n",
       "Dust_and_Noise              0      0.0\n",
       "Air_Quality_Index           0      0.0\n",
       "Neighborhood_Review         0      0.0\n",
       "Habitability_score          0      0.0"
      ]
     },
     "execution_count": 27,
     "metadata": {},
     "output_type": "execute_result"
    }
   ],
   "source": [
    "# check missing data\n",
    "total = df.isnull().sum().sort_values(ascending=False)\n",
    "percent = (df.isnull().sum()/df.isnull().count()).sort_values(ascending=False)\n",
    "missing_data = pd.concat([total, percent], axis=1, keys=['Total', 'Percent'])\n",
    "missing_data.head(20)"
   ]
  },
  {
   "cell_type": "code",
   "execution_count": 28,
   "id": "12616dfa",
   "metadata": {},
   "outputs": [],
   "source": [
    "# df['Furnishing'].unique()"
   ]
  },
  {
   "cell_type": "code",
   "execution_count": 29,
   "id": "28a557f5",
   "metadata": {},
   "outputs": [],
   "source": [
    "# df['Power_Backup'].unique()"
   ]
  },
  {
   "cell_type": "code",
   "execution_count": 30,
   "id": "7aed353b",
   "metadata": {},
   "outputs": [],
   "source": [
    "# Useless\n",
    "# df['Water_Supply'].unique()"
   ]
  },
  {
   "cell_type": "code",
   "execution_count": 31,
   "id": "80544d65",
   "metadata": {},
   "outputs": [],
   "source": [
    "# df['Crime_Rate'].unique()"
   ]
  },
  {
   "cell_type": "code",
   "execution_count": 32,
   "id": "404c3b10",
   "metadata": {},
   "outputs": [],
   "source": [
    "# df['Dust_and_Noise'].unique()"
   ]
  },
  {
   "cell_type": "code",
   "execution_count": 33,
   "id": "f6232f09",
   "metadata": {},
   "outputs": [],
   "source": [
    "# df['Property_Type'].unique()"
   ]
  },
  {
   "cell_type": "code",
   "execution_count": 34,
   "id": "c3e82fa0",
   "metadata": {},
   "outputs": [],
   "source": [
    "# print(df[df['Dust_and_Noise'] == 'Medium']['Habitability_score'].mean())\n",
    "# print(df[df['Dust_and_Noise'] == 'High']['Habitability_score'].mean())\n",
    "# print(df[df['Dust_and_Noise'] == 'Low']['Habitability_score'].mean())\n",
    "# print(df[df['Crime_Rate'] == 'Slightly above average']['Habitability_score'].mean())\n",
    "# print(df[df['Crime_Rate'] == 'NOT MENTIONED']['Habitability_score'].mean())"
   ]
  },
  {
   "cell_type": "code",
   "execution_count": 39,
   "id": "fa760eb1",
   "metadata": {},
   "outputs": [],
   "source": [
    "# def encode_dataset(df):\n",
    "#     cleanup_nums = {\"Furnishing\":     {\"Semi_Furnished\": 1, \"Unfurnished\": 0, \"Fully Furnished\": 2},\n",
    "#                     \"Power_Backup\": {\"No\": 0, \"Yes\": 1, \"NOT MENTIONED\": 0},\n",
    "#                     \"Crime_Rate\": {\"Well below average\": 1, \"Slightly below average\": 0.8, \"Well above average\": 0, \"Slightly above average\": 0},\n",
    "#                     \"Dust_and_Noise\": {\"High\": 0, \"Medium\": 0.7, \"Low\": 1}\n",
    "#                     }\n",
    "#     df = df.replace(cleanup_nums)\n",
    "#     return df"
   ]
  },
  {
   "cell_type": "code",
   "execution_count": 41,
   "id": "d1daf0eb",
   "metadata": {},
   "outputs": [],
   "source": [
    "cleanup_nums = {\"Furnishing\":     {\"Semi_Furnished\": 1, \"Unfurnished\": 0, \"Fully Furnished\": 2},\n",
    "                    \"Power_Backup\": {\"No\": 0, \"Yes\": 1, \"NOT MENTIONED\": 0},\n",
    "                    \"Crime_Rate\": {\"Well below average\": 1, \"Slightly below average\": 0.8, \"Well above average\": 0, \"Slightly above average\": 0},\n",
    "                    \"Dust_and_Noise\": {\"High\": 0, \"Medium\": 0.7, \"Low\": 1}\n",
    "                    }\n",
    "df_to_train = df_to_train.replace(cleanup_nums)"
   ]
  },
  {
   "cell_type": "code",
   "execution_count": 42,
   "id": "64d97d89",
   "metadata": {},
   "outputs": [
    {
     "data": {
      "text/html": [
       "<div>\n",
       "<style scoped>\n",
       "    .dataframe tbody tr th:only-of-type {\n",
       "        vertical-align: middle;\n",
       "    }\n",
       "\n",
       "    .dataframe tbody tr th {\n",
       "        vertical-align: top;\n",
       "    }\n",
       "\n",
       "    .dataframe thead th {\n",
       "        text-align: right;\n",
       "    }\n",
       "</style>\n",
       "<table border=\"1\" class=\"dataframe\">\n",
       "  <thead>\n",
       "    <tr style=\"text-align: right;\">\n",
       "      <th></th>\n",
       "      <th>Property_ID</th>\n",
       "      <th>Property_Type</th>\n",
       "      <th>Property_Area</th>\n",
       "      <th>Number_of_Windows</th>\n",
       "      <th>Number_of_Doors</th>\n",
       "      <th>Furnishing</th>\n",
       "      <th>Frequency_of_Powercuts</th>\n",
       "      <th>Power_Backup</th>\n",
       "      <th>Water_Supply</th>\n",
       "      <th>Traffic_Density_Score</th>\n",
       "      <th>Crime_Rate</th>\n",
       "      <th>Dust_and_Noise</th>\n",
       "      <th>Air_Quality_Index</th>\n",
       "      <th>Neighborhood_Review</th>\n",
       "      <th>Habitability_score</th>\n",
       "    </tr>\n",
       "  </thead>\n",
       "  <tbody>\n",
       "    <tr>\n",
       "      <th>0</th>\n",
       "      <td>0x21e3</td>\n",
       "      <td>Apartment</td>\n",
       "      <td>106</td>\n",
       "      <td>0.0</td>\n",
       "      <td>1</td>\n",
       "      <td>1</td>\n",
       "      <td>0.0</td>\n",
       "      <td>0</td>\n",
       "      <td>Once in a day - Morning</td>\n",
       "      <td>5.89</td>\n",
       "      <td>0.8</td>\n",
       "      <td>0.7</td>\n",
       "      <td>90.0</td>\n",
       "      <td>3.86</td>\n",
       "      <td>71.98</td>\n",
       "    </tr>\n",
       "    <tr>\n",
       "      <th>1</th>\n",
       "      <td>0x68d4</td>\n",
       "      <td>Apartment</td>\n",
       "      <td>733</td>\n",
       "      <td>2.0</td>\n",
       "      <td>2</td>\n",
       "      <td>0</td>\n",
       "      <td>1.0</td>\n",
       "      <td>0</td>\n",
       "      <td>Once in a day - Evening</td>\n",
       "      <td>4.37</td>\n",
       "      <td>1.0</td>\n",
       "      <td>0.7</td>\n",
       "      <td>96.0</td>\n",
       "      <td>3.55</td>\n",
       "      <td>71.20</td>\n",
       "    </tr>\n",
       "    <tr>\n",
       "      <th>2</th>\n",
       "      <td>0x7d81</td>\n",
       "      <td>Apartment</td>\n",
       "      <td>737</td>\n",
       "      <td>4.0</td>\n",
       "      <td>2</td>\n",
       "      <td>2</td>\n",
       "      <td>0.0</td>\n",
       "      <td>0</td>\n",
       "      <td>Once in a day - Morning</td>\n",
       "      <td>7.45</td>\n",
       "      <td>0.8</td>\n",
       "      <td>0.7</td>\n",
       "      <td>121.0</td>\n",
       "      <td>3.81</td>\n",
       "      <td>71.39</td>\n",
       "    </tr>\n",
       "    <tr>\n",
       "      <th>3</th>\n",
       "      <td>0x7a57</td>\n",
       "      <td>Apartment</td>\n",
       "      <td>900</td>\n",
       "      <td>3.0</td>\n",
       "      <td>2</td>\n",
       "      <td>0</td>\n",
       "      <td>2.0</td>\n",
       "      <td>1</td>\n",
       "      <td>Once in a day - Morning</td>\n",
       "      <td>6.16</td>\n",
       "      <td>0.0</td>\n",
       "      <td>0.7</td>\n",
       "      <td>100.0</td>\n",
       "      <td>1.34</td>\n",
       "      <td>31.46</td>\n",
       "    </tr>\n",
       "    <tr>\n",
       "      <th>4</th>\n",
       "      <td>0x9409</td>\n",
       "      <td>Bungalow</td>\n",
       "      <td>2238</td>\n",
       "      <td>14.0</td>\n",
       "      <td>6</td>\n",
       "      <td>2</td>\n",
       "      <td>0.0</td>\n",
       "      <td>0</td>\n",
       "      <td>All time</td>\n",
       "      <td>5.46</td>\n",
       "      <td>1.0</td>\n",
       "      <td>0.7</td>\n",
       "      <td>116.0</td>\n",
       "      <td>4.77</td>\n",
       "      <td>93.70</td>\n",
       "    </tr>\n",
       "  </tbody>\n",
       "</table>\n",
       "</div>"
      ],
      "text/plain": [
       "  Property_ID Property_Type  Property_Area  Number_of_Windows  \\\n",
       "0      0x21e3     Apartment            106                0.0   \n",
       "1      0x68d4     Apartment            733                2.0   \n",
       "2      0x7d81     Apartment            737                4.0   \n",
       "3      0x7a57     Apartment            900                3.0   \n",
       "4      0x9409      Bungalow           2238               14.0   \n",
       "\n",
       "   Number_of_Doors  Furnishing  Frequency_of_Powercuts  Power_Backup  \\\n",
       "0                1           1                     0.0             0   \n",
       "1                2           0                     1.0             0   \n",
       "2                2           2                     0.0             0   \n",
       "3                2           0                     2.0             1   \n",
       "4                6           2                     0.0             0   \n",
       "\n",
       "              Water_Supply  Traffic_Density_Score  Crime_Rate  Dust_and_Noise  \\\n",
       "0  Once in a day - Morning                   5.89         0.8             0.7   \n",
       "1  Once in a day - Evening                   4.37         1.0             0.7   \n",
       "2  Once in a day - Morning                   7.45         0.8             0.7   \n",
       "3  Once in a day - Morning                   6.16         0.0             0.7   \n",
       "4                 All time                   5.46         1.0             0.7   \n",
       "\n",
       "   Air_Quality_Index  Neighborhood_Review  Habitability_score  \n",
       "0               90.0                 3.86               71.98  \n",
       "1               96.0                 3.55               71.20  \n",
       "2              121.0                 3.81               71.39  \n",
       "3              100.0                 1.34               31.46  \n",
       "4              116.0                 4.77               93.70  "
      ]
     },
     "execution_count": 42,
     "metadata": {},
     "output_type": "execute_result"
    }
   ],
   "source": [
    "# encode_dataset(df_to_train)\n",
    "df_to_train.head()"
   ]
  },
  {
   "cell_type": "code",
   "execution_count": null,
   "id": "6de31e88",
   "metadata": {},
   "outputs": [],
   "source": [
    "# Label Encoding \n",
    "# def encoder(df):\n",
    "#     from sklearn.preprocessing import LabelEncoder\n",
    "#     cols = ('Property_Type', 'Furnishing', 'Power_Backup', 'Water_Supply', 'Crime_Rate', \n",
    "#             'Dust_and_Noise')\n",
    "#     # process columns, apply LabelEncoder to categorical features\n",
    "#     for c in cols:\n",
    "#         lbl = LabelEncoder() \n",
    "#         lbl.fit(list(df[c].values)) \n",
    "#         df[c] = lbl.transform(list(df[c].values))\n",
    "\n",
    "#     # shape        \n",
    "#     print('Shape all_data: {}'.format(df.shape))"
   ]
  },
  {
   "cell_type": "code",
   "execution_count": null,
   "id": "39008371",
   "metadata": {},
   "outputs": [],
   "source": [
    "# encoder(df)\n",
    "# encoder(test)"
   ]
  },
  {
   "cell_type": "code",
   "execution_count": 43,
   "id": "0fd0c3ae",
   "metadata": {},
   "outputs": [],
   "source": [
    "# skewness = skewness[abs(skewness) > 0.75]\n",
    "# print(\"There are {} skewed numerical features to Box Cox transform\".format(skewness.shape[0]))\n",
    "def fix_skew(df):\n",
    "    from scipy.special import boxcox1p\n",
    "    skewed_features = [\"Air_Quality_Index\",\"Property_Area\"]\n",
    "    lam = 0.15\n",
    "    for feat in skewed_features:\n",
    "        #all_data[feat] += 1\n",
    "        df[feat] = boxcox1p(df[feat], lam)"
   ]
  },
  {
   "cell_type": "code",
   "execution_count": 44,
   "id": "dac9e03c",
   "metadata": {},
   "outputs": [],
   "source": [
    "fix_skew(test)\n",
    "fix_skew(df_to_train)"
   ]
  },
  {
   "cell_type": "code",
   "execution_count": 45,
   "id": "667bbe1a",
   "metadata": {},
   "outputs": [],
   "source": [
    "def check_skew(df):\n",
    "    numeric_feats = df.dtypes[df.dtypes != \"object\"].index\n",
    "\n",
    "    # Check the skew of all numerical features\n",
    "    skewed_feats = df[numeric_feats].apply(lambda x: skew(x.dropna())).sort_values(ascending=False)\n",
    "    print(\"\\nSkew in numerical features: \\n\")\n",
    "    skewness = pd.DataFrame({'Skew' :skewed_feats})\n",
    "    print(skewness.head(15))"
   ]
  },
  {
   "cell_type": "code",
   "execution_count": 46,
   "id": "0ff37aea",
   "metadata": {},
   "outputs": [
    {
     "name": "stdout",
     "output_type": "stream",
     "text": [
      "\n",
      "Skew in numerical features: \n",
      "\n",
      "                            Skew\n",
      "Number_of_Windows       1.701516\n",
      "Frequency_of_Powercuts  1.655591\n",
      "Number_of_Doors         0.842488\n",
      "Property_Area           0.543492\n",
      "Traffic_Density_Score  -0.592793\n",
      "Neighborhood_Review    -0.724206\n",
      "Air_Quality_Index      -1.147192\n",
      "\n",
      "Skew in numerical features: \n",
      "\n",
      "                            Skew\n",
      "Number_of_Windows       1.678325\n",
      "Frequency_of_Powercuts  1.660208\n",
      "Power_Backup            1.305035\n",
      "Number_of_Doors         0.838949\n",
      "Property_Area           0.620820\n",
      "Furnishing              0.078435\n",
      "Traffic_Density_Score  -0.551835\n",
      "Neighborhood_Review    -0.730654\n",
      "Air_Quality_Index      -0.739742\n",
      "Crime_Rate             -1.360013\n",
      "Habitability_score     -1.553639\n",
      "Dust_and_Noise         -2.378065\n"
     ]
    }
   ],
   "source": [
    "check_skew(test)\n",
    "check_skew(df_to_train)"
   ]
  },
  {
   "cell_type": "code",
   "execution_count": 48,
   "id": "017b422f",
   "metadata": {},
   "outputs": [],
   "source": [
    "# df_to_train.corr()"
   ]
  },
  {
   "cell_type": "code",
   "execution_count": 49,
   "id": "3ffe8105",
   "metadata": {},
   "outputs": [],
   "source": [
    "# corrmat = df.corr()\n",
    "# f, ax = plt.subplots(figsize=(12, 9))\n",
    "# sns.heatmap(corrmat, vmax=.8, square=True);"
   ]
  },
  {
   "cell_type": "code",
   "execution_count": 50,
   "id": "c7fdc11d",
   "metadata": {},
   "outputs": [],
   "source": [
    "# sns.set()\n",
    "# # cols = ['Habitability_score', 'Neighborhood_Review', 'GrLivArea', 'GarageCars', 'TotalBsmtSF', 'FullBath', 'YearBuilt']\n",
    "# sns.pairplot(df, size = 2.5)\n",
    "# plt.show();"
   ]
  },
  {
   "cell_type": "code",
   "execution_count": null,
   "id": "0399c4be",
   "metadata": {},
   "outputs": [],
   "source": [
    "# df.head()"
   ]
  },
  {
   "cell_type": "code",
   "execution_count": null,
   "id": "0a3b31bf",
   "metadata": {},
   "outputs": [],
   "source": [
    "# df_to_train.head()"
   ]
  },
  {
   "cell_type": "code",
   "execution_count": null,
   "id": "a88a8dd0",
   "metadata": {},
   "outputs": [],
   "source": [
    "# df_to_train"
   ]
  },
  {
   "cell_type": "code",
   "execution_count": 51,
   "id": "a2ca399f",
   "metadata": {},
   "outputs": [],
   "source": [
    "df_to_train = df_to_train.iloc[: , 1:] #drop first column\n",
    "df_to_train = df_to_train.iloc[: , :-1] # drop last column\n",
    "# df_to_train2 = df_to_train[['Furnishing','Frequency_of_Powercuts','Power_Backup','Crime_Rate','Neighborhood_Review','Property_Area','Dust_and_Noise']]\n",
    "df_to_train = pd.get_dummies(df_to_train)"
   ]
  },
  {
   "cell_type": "code",
   "execution_count": null,
   "id": "f02f2ae6",
   "metadata": {},
   "outputs": [],
   "source": [
    "# df_new = df\n",
    "# df_new = df_new.iloc[: , 1:] #drop first column\n",
    "# df_new = df_new.iloc[: , :-1] # drop last column \n",
    "# df_new2 = df_new\n",
    "# df_new3 = df_new[['Furnishing','Frequency_of_Powercuts','Power_Backup','Crime_Rate','Neighborhood_Review','Property_Area']]\n",
    "# df_new = pd.get_dummies(df_new)\n",
    "# df_new3_with_dummies = pd.get_dummies(df_new3)\n",
    "# print(df.shape)\n",
    "# print(df_new.shape)"
   ]
  },
  {
   "cell_type": "code",
   "execution_count": 53,
   "id": "2bc522cf",
   "metadata": {},
   "outputs": [],
   "source": [
    "# df_new3.head()"
   ]
  },
  {
   "cell_type": "code",
   "execution_count": 54,
   "id": "4a1b4fcd",
   "metadata": {},
   "outputs": [],
   "source": [
    "# df.info()"
   ]
  },
  {
   "cell_type": "code",
   "execution_count": null,
   "id": "a117bb3f",
   "metadata": {},
   "outputs": [],
   "source": [
    "# df_new2.head()"
   ]
  },
  {
   "cell_type": "code",
   "execution_count": null,
   "id": "8e28e4c6",
   "metadata": {},
   "outputs": [],
   "source": [
    "# df_new.info()"
   ]
  },
  {
   "cell_type": "code",
   "execution_count": null,
   "id": "30a143b8",
   "metadata": {},
   "outputs": [],
   "source": [
    "# df_new.head()"
   ]
  },
  {
   "cell_type": "code",
   "execution_count": null,
   "id": "9e149def",
   "metadata": {},
   "outputs": [],
   "source": [
    "# pip install xgboost"
   ]
  },
  {
   "cell_type": "code",
   "execution_count": null,
   "id": "a8aa3ac3",
   "metadata": {},
   "outputs": [],
   "source": [
    "# pip install lightgbm"
   ]
  },
  {
   "cell_type": "code",
   "execution_count": 55,
   "id": "596233cd",
   "metadata": {},
   "outputs": [],
   "source": [
    "from sklearn.linear_model import ElasticNet, Lasso,  BayesianRidge, LassoLarsIC\n",
    "from sklearn.ensemble import RandomForestRegressor,  GradientBoostingRegressor\n",
    "from sklearn.kernel_ridge import KernelRidge\n",
    "from sklearn.pipeline import make_pipeline\n",
    "from sklearn.preprocessing import RobustScaler\n",
    "from sklearn.base import BaseEstimator, TransformerMixin, RegressorMixin, clone\n",
    "from sklearn.model_selection import KFold, cross_val_score, train_test_split\n",
    "from sklearn.metrics import mean_squared_error\n",
    "import xgboost as xgb\n",
    "import lightgbm as lgb"
   ]
  },
  {
   "cell_type": "code",
   "execution_count": null,
   "id": "0769c932",
   "metadata": {},
   "outputs": [],
   "source": [
    "# Mess shit up\n",
    "# train = df_new[::]"
   ]
  },
  {
   "cell_type": "code",
   "execution_count": null,
   "id": "b262dae6",
   "metadata": {},
   "outputs": [],
   "source": [
    "# Mess shit UP\n",
    "# train.head()"
   ]
  },
  {
   "cell_type": "code",
   "execution_count": null,
   "id": "fe961cae",
   "metadata": {},
   "outputs": [],
   "source": [
    "# Mess shit UP\n",
    "# test.head()"
   ]
  },
  {
   "cell_type": "code",
   "execution_count": null,
   "id": "78aadb63",
   "metadata": {},
   "outputs": [],
   "source": [
    "# Mess shit UP\n",
    "# X = train.iloc[:,:-1]\n",
    "# y = train.iloc[:,-1:]\n",
    "# # y = y.iloc[: , 1:] #drop first column\n",
    "# # df_new = df_new.iloc[: , :-1] # drop last column \n",
    "# # y = pd.get_dummies(y)\n",
    "# X.head()\n",
    "# # print(y)\n",
    "# # y.head()"
   ]
  },
  {
   "cell_type": "code",
   "execution_count": null,
   "id": "fa375268",
   "metadata": {},
   "outputs": [],
   "source": [
    "# Mess shit UP\n",
    "# # split into train,test and val and plot to see if you are over fitting on the data\n",
    "# X_train, X_test, y_train, y_test = train_test_split(X, y, test_size=0.2, random_state=1)\n",
    "# print(X_train.shape, y_train.shape)\n",
    "# print(X_test.shape, y_test.shape)\n",
    "# X_train, X_val, y_train, y_val = train_test_split(X_train, y_train, test_size=0.25, random_state=1) # 0.25 x 0.8 = 0.2"
   ]
  },
  {
   "cell_type": "code",
   "execution_count": null,
   "id": "9e177349",
   "metadata": {},
   "outputs": [],
   "source": [
    "# train = train.iloc[:,:-1]"
   ]
  },
  {
   "cell_type": "code",
   "execution_count": null,
   "id": "f6557a6f",
   "metadata": {},
   "outputs": [],
   "source": [
    "# train.values"
   ]
  },
  {
   "cell_type": "code",
   "execution_count": 56,
   "id": "94fbff93",
   "metadata": {},
   "outputs": [],
   "source": [
    "#Validation function\n",
    "n_folds = 5\n",
    "\n",
    "def rmsle_cv(model):\n",
    "    kf = KFold(n_folds, shuffle=True, random_state=42).get_n_splits(df_to_train.values)\n",
    "    rmse= np.sqrt(-cross_val_score(model, df_to_train.values, y_train, scoring=\"neg_mean_squared_error\", cv = kf))\n",
    "    return(rmse)\n"
   ]
  },
  {
   "cell_type": "code",
   "execution_count": null,
   "id": "e050bf54",
   "metadata": {},
   "outputs": [],
   "source": [
    "# lasso = make_pipeline(RobustScaler(), Lasso(alpha =0.0005, random_state=1))"
   ]
  },
  {
   "cell_type": "code",
   "execution_count": null,
   "id": "2e1fee20",
   "metadata": {},
   "outputs": [],
   "source": [
    "# ENet = make_pipeline(RobustScaler(), ElasticNet(alpha=0.0005, l1_ratio=.9, random_state=3))"
   ]
  },
  {
   "cell_type": "code",
   "execution_count": null,
   "id": "e6221bfe",
   "metadata": {},
   "outputs": [],
   "source": [
    "# KRR = KernelRidge(alpha=0.6, kernel='polynomial', degree=2, coef0=2.5)"
   ]
  },
  {
   "cell_type": "code",
   "execution_count": null,
   "id": "34cc4a96",
   "metadata": {},
   "outputs": [],
   "source": [
    "# GBoost = GradientBoostingRegressor(n_estimators=3000, learning_rate=0.05,\n",
    "#                                    max_depth=4, max_features='sqrt',\n",
    "#                                    min_samples_leaf=15, min_samples_split=10, \n",
    "#                                    loss='huber', random_state =5)"
   ]
  },
  {
   "cell_type": "code",
   "execution_count": 57,
   "id": "82f9c556",
   "metadata": {},
   "outputs": [],
   "source": [
    "model_xgb = xgb.XGBRegressor(colsample_bytree=0.4603, gamma=0.0468, \n",
    "                             learning_rate=0.05, max_depth=3, \n",
    "                             min_child_weight=1.7817, n_estimators=2200,\n",
    "                             reg_alpha=0.4640, reg_lambda=0.8571,\n",
    "                             subsample=0.5213, silent=1,\n",
    "                             random_state =7, nthread = -1)"
   ]
  },
  {
   "cell_type": "code",
   "execution_count": 58,
   "id": "436b3168",
   "metadata": {},
   "outputs": [],
   "source": [
    "# model_lgb = lgb.LGBMRegressor(objective='regression',num_leaves=5,\n",
    "#                               learning_rate=0.05, n_estimators=720,\n",
    "#                               max_bin = 55, bagging_fraction = 0.8,\n",
    "#                               bagging_freq = 5, feature_fraction = 0.2319,\n",
    "#                               feature_fraction_seed=9, bagging_seed=9,\n",
    "#                               min_data_in_leaf =6, min_sum_hessian_in_leaf = 11)"
   ]
  },
  {
   "cell_type": "code",
   "execution_count": null,
   "id": "2069fced",
   "metadata": {},
   "outputs": [],
   "source": [
    "# score = rmsle_cv(lasso)\n",
    "# print(score)\n",
    "# print(\"\\nLasso score: {:.4f} ({:.4f})\\n\".format(score.mean(), score.std()))"
   ]
  },
  {
   "cell_type": "code",
   "execution_count": null,
   "id": "5a417db5",
   "metadata": {},
   "outputs": [],
   "source": [
    "# score = rmsle_cv(ENet)\n",
    "# print(\"ElasticNet score: {:.4f} ({:.4f})\\n\".format(score.mean(), score.std()))"
   ]
  },
  {
   "cell_type": "code",
   "execution_count": null,
   "id": "c97a6137",
   "metadata": {},
   "outputs": [],
   "source": [
    "# score = rmsle_cv(KRR)\n",
    "# print(\"Kernel Ridge score: {:.4f} ({:.4f})\\n\".format(score.mean(), score.std()))"
   ]
  },
  {
   "cell_type": "code",
   "execution_count": null,
   "id": "9e539318",
   "metadata": {},
   "outputs": [],
   "source": [
    "# score = rmsle_cv(GBoost)\n",
    "# print(\"Gradient Boosting score: {:.4f} ({:.4f})\\n\".format(score.mean(), score.std()))"
   ]
  },
  {
   "cell_type": "code",
   "execution_count": 59,
   "id": "47abf5bc",
   "metadata": {},
   "outputs": [
    {
     "name": "stdout",
     "output_type": "stream",
     "text": [
      "[17:15:58] WARNING: C:/Users/Administrator/workspace/xgboost-win64_release_1.6.0/src/learner.cc:627: \n",
      "Parameters: { \"silent\" } might not be used.\n",
      "\n",
      "  This could be a false alarm, with some parameters getting used by language bindings but\n",
      "  then being mistakenly passed down to XGBoost core, or some parameter actually being used\n",
      "  but getting flagged wrongly here. Please open an issue if you find any such cases.\n",
      "\n",
      "\n",
      "[17:16:10] WARNING: C:/Users/Administrator/workspace/xgboost-win64_release_1.6.0/src/learner.cc:627: \n",
      "Parameters: { \"silent\" } might not be used.\n",
      "\n",
      "  This could be a false alarm, with some parameters getting used by language bindings but\n",
      "  then being mistakenly passed down to XGBoost core, or some parameter actually being used\n",
      "  but getting flagged wrongly here. Please open an issue if you find any such cases.\n",
      "\n",
      "\n",
      "[17:16:23] WARNING: C:/Users/Administrator/workspace/xgboost-win64_release_1.6.0/src/learner.cc:627: \n",
      "Parameters: { \"silent\" } might not be used.\n",
      "\n",
      "  This could be a false alarm, with some parameters getting used by language bindings but\n",
      "  then being mistakenly passed down to XGBoost core, or some parameter actually being used\n",
      "  but getting flagged wrongly here. Please open an issue if you find any such cases.\n",
      "\n",
      "\n",
      "[17:16:35] WARNING: C:/Users/Administrator/workspace/xgboost-win64_release_1.6.0/src/learner.cc:627: \n",
      "Parameters: { \"silent\" } might not be used.\n",
      "\n",
      "  This could be a false alarm, with some parameters getting used by language bindings but\n",
      "  then being mistakenly passed down to XGBoost core, or some parameter actually being used\n",
      "  but getting flagged wrongly here. Please open an issue if you find any such cases.\n",
      "\n",
      "\n",
      "[17:16:48] WARNING: C:/Users/Administrator/workspace/xgboost-win64_release_1.6.0/src/learner.cc:627: \n",
      "Parameters: { \"silent\" } might not be used.\n",
      "\n",
      "  This could be a false alarm, with some parameters getting used by language bindings but\n",
      "  then being mistakenly passed down to XGBoost core, or some parameter actually being used\n",
      "  but getting flagged wrongly here. Please open an issue if you find any such cases.\n",
      "\n",
      "\n",
      "Xgboost score: 6.8558 (0.0499)\n",
      "\n"
     ]
    }
   ],
   "source": [
    "score = rmsle_cv(model_xgb)\n",
    "print(\"Xgboost score: {:.4f} ({:.4f})\\n\".format(score.mean(), score.std()))"
   ]
  },
  {
   "cell_type": "code",
   "execution_count": null,
   "id": "3499344e",
   "metadata": {},
   "outputs": [],
   "source": [
    "# score = rmsle_cv(model_lgb)\n",
    "# print(\"LGBM score: {:.4f} ({:.4f})\\n\" .format(score.mean(), score.std()))"
   ]
  },
  {
   "cell_type": "code",
   "execution_count": null,
   "id": "8767bf79",
   "metadata": {},
   "outputs": [],
   "source": [
    "# # this all for stacking \n",
    "# class AveragingModels(BaseEstimator, RegressorMixin, TransformerMixin):\n",
    "#     def __init__(self, models):\n",
    "#         self.models = models\n",
    "        \n",
    "#     # we define clones of the original models to fit the data in\n",
    "#     def fit(self, X, y):\n",
    "#         self.models_ = [clone(x) for x in self.models]\n",
    "        \n",
    "#         # Train cloned base models\n",
    "#         for model in self.models_:\n",
    "#             model.fit(X, y)\n",
    "\n",
    "#         return self\n",
    "    \n",
    "#     #Now we do the predictions for cloned models and average them\n",
    "#     def predict(self, X):\n",
    "#         predictions = np.column_stack([\n",
    "#             model.predict(X) for model in self.models_\n",
    "#         ])\n",
    "#         return np.mean(predictions, axis=1)   "
   ]
  },
  {
   "cell_type": "code",
   "execution_count": 60,
   "id": "2a90c9bb",
   "metadata": {},
   "outputs": [],
   "source": [
    "def rmsle(y, y_pred):\n",
    "    return np.sqrt(mean_squared_error(y, y_pred))"
   ]
  },
  {
   "cell_type": "code",
   "execution_count": 63,
   "id": "567ee34a",
   "metadata": {},
   "outputs": [
    {
     "data": {
      "text/plain": [
       "7.28"
      ]
     },
     "execution_count": 63,
     "metadata": {},
     "output_type": "execute_result"
    }
   ],
   "source": [
    "df['Habitability_score'].min()"
   ]
  },
  {
   "cell_type": "code",
   "execution_count": 64,
   "id": "798d02ac",
   "metadata": {},
   "outputs": [
    {
     "name": "stdout",
     "output_type": "stream",
     "text": [
      "[17:26:17] WARNING: C:/Users/Administrator/workspace/xgboost-win64_release_1.6.0/src/learner.cc:627: \n",
      "Parameters: { \"silent\" } might not be used.\n",
      "\n",
      "  This could be a false alarm, with some parameters getting used by language bindings but\n",
      "  then being mistakenly passed down to XGBoost core, or some parameter actually being used\n",
      "  but getting flagged wrongly here. Please open an issue if you find any such cases.\n",
      "\n",
      "\n",
      "6.456339513940977\n",
      "0.0696326522211063\n"
     ]
    }
   ],
   "source": [
    "model_xgb.fit(df_to_train, y_train)\n",
    "xgb_train_pred = model_xgb.predict(df_to_train) \n",
    "# xgb_pred = np.expm1(model_xgb.predict(test))\n",
    "print(rmsle(y_train, xgb_train_pred))\n",
    "print(rmsle(y_train, xgb_train_pred)/(df['Habitability_score'].max() - df['Habitability_score'].min()))"
   ]
  },
  {
   "cell_type": "code",
   "execution_count": 66,
   "id": "1e00ed96",
   "metadata": {},
   "outputs": [
    {
     "name": "stdout",
     "output_type": "stream",
     "text": [
      "<class 'pandas.core.frame.DataFrame'>\n",
      "RangeIndex: 39499 entries, 0 to 39498\n",
      "Data columns (total 22 columns):\n",
      " #   Column                                Non-Null Count  Dtype  \n",
      "---  ------                                --------------  -----  \n",
      " 0   Property_Area                         39499 non-null  float64\n",
      " 1   Number_of_Windows                     39499 non-null  float64\n",
      " 2   Number_of_Doors                       39499 non-null  int64  \n",
      " 3   Furnishing                            39499 non-null  int64  \n",
      " 4   Frequency_of_Powercuts                39499 non-null  float64\n",
      " 5   Power_Backup                          39499 non-null  int64  \n",
      " 6   Traffic_Density_Score                 39499 non-null  float64\n",
      " 7   Crime_Rate                            39499 non-null  float64\n",
      " 8   Dust_and_Noise                        39499 non-null  float64\n",
      " 9   Air_Quality_Index                     39499 non-null  float64\n",
      " 10  Neighborhood_Review                   39499 non-null  float64\n",
      " 11  Property_Type_#R%$G&867               39499 non-null  uint8  \n",
      " 12  Property_Type_Apartment               39499 non-null  uint8  \n",
      " 13  Property_Type_Bungalow                39499 non-null  uint8  \n",
      " 14  Property_Type_Container Home          39499 non-null  uint8  \n",
      " 15  Property_Type_Duplex                  39499 non-null  uint8  \n",
      " 16  Property_Type_Single-family home      39499 non-null  uint8  \n",
      " 17  Water_Supply_All time                 39499 non-null  uint8  \n",
      " 18  Water_Supply_NOT MENTIONED            39499 non-null  uint8  \n",
      " 19  Water_Supply_Once in a day - Evening  39499 non-null  uint8  \n",
      " 20  Water_Supply_Once in a day - Morning  39499 non-null  uint8  \n",
      " 21  Water_Supply_Once in two days         39499 non-null  uint8  \n",
      "dtypes: float64(8), int64(3), uint8(11)\n",
      "memory usage: 3.7 MB\n"
     ]
    }
   ],
   "source": [
    "df_to_train.info()"
   ]
  },
  {
   "cell_type": "code",
   "execution_count": 67,
   "id": "87343322",
   "metadata": {},
   "outputs": [
    {
     "name": "stdout",
     "output_type": "stream",
     "text": [
      "<class 'pandas.core.frame.DataFrame'>\n",
      "RangeIndex: 10500 entries, 0 to 10499\n",
      "Data columns (total 14 columns):\n",
      " #   Column                  Non-Null Count  Dtype  \n",
      "---  ------                  --------------  -----  \n",
      " 0   Property_ID             10500 non-null  object \n",
      " 1   Property_Type           10500 non-null  object \n",
      " 2   Property_Area           10500 non-null  float64\n",
      " 3   Number_of_Windows       10500 non-null  float64\n",
      " 4   Number_of_Doors         10500 non-null  int64  \n",
      " 5   Furnishing              10500 non-null  object \n",
      " 6   Frequency_of_Powercuts  10500 non-null  float64\n",
      " 7   Power_Backup            10500 non-null  object \n",
      " 8   Water_Supply            10500 non-null  object \n",
      " 9   Traffic_Density_Score   10500 non-null  float64\n",
      " 10  Crime_Rate              10500 non-null  object \n",
      " 11  Dust_and_Noise          10500 non-null  object \n",
      " 12  Air_Quality_Index       10500 non-null  float64\n",
      " 13  Neighborhood_Review     10500 non-null  float64\n",
      "dtypes: float64(6), int64(1), object(7)\n",
      "memory usage: 1.1+ MB\n"
     ]
    }
   ],
   "source": [
    "test.info()"
   ]
  },
  {
   "cell_type": "code",
   "execution_count": 68,
   "id": "88741ec8",
   "metadata": {},
   "outputs": [
    {
     "data": {
      "text/html": [
       "<div>\n",
       "<style scoped>\n",
       "    .dataframe tbody tr th:only-of-type {\n",
       "        vertical-align: middle;\n",
       "    }\n",
       "\n",
       "    .dataframe tbody tr th {\n",
       "        vertical-align: top;\n",
       "    }\n",
       "\n",
       "    .dataframe thead th {\n",
       "        text-align: right;\n",
       "    }\n",
       "</style>\n",
       "<table border=\"1\" class=\"dataframe\">\n",
       "  <thead>\n",
       "    <tr style=\"text-align: right;\">\n",
       "      <th></th>\n",
       "      <th>Property_ID</th>\n",
       "      <th>Property_Type</th>\n",
       "      <th>Property_Area</th>\n",
       "      <th>Number_of_Windows</th>\n",
       "      <th>Number_of_Doors</th>\n",
       "      <th>Furnishing</th>\n",
       "      <th>Frequency_of_Powercuts</th>\n",
       "      <th>Power_Backup</th>\n",
       "      <th>Water_Supply</th>\n",
       "      <th>Traffic_Density_Score</th>\n",
       "      <th>Crime_Rate</th>\n",
       "      <th>Dust_and_Noise</th>\n",
       "      <th>Air_Quality_Index</th>\n",
       "      <th>Neighborhood_Review</th>\n",
       "    </tr>\n",
       "  </thead>\n",
       "  <tbody>\n",
       "    <tr>\n",
       "      <th>0</th>\n",
       "      <td>0x6e93</td>\n",
       "      <td>Apartment</td>\n",
       "      <td>8.970600</td>\n",
       "      <td>3.0</td>\n",
       "      <td>1</td>\n",
       "      <td>Unfurnished</td>\n",
       "      <td>0.0</td>\n",
       "      <td>No</td>\n",
       "      <td>Once in a day - Morning</td>\n",
       "      <td>7.28</td>\n",
       "      <td>Well above average</td>\n",
       "      <td>Medium</td>\n",
       "      <td>7.511251</td>\n",
       "      <td>2.52</td>\n",
       "    </tr>\n",
       "    <tr>\n",
       "      <th>1</th>\n",
       "      <td>0x8787</td>\n",
       "      <td>Apartment</td>\n",
       "      <td>10.679538</td>\n",
       "      <td>4.0</td>\n",
       "      <td>1</td>\n",
       "      <td>Semi_Furnished</td>\n",
       "      <td>0.0</td>\n",
       "      <td>No</td>\n",
       "      <td>Once in a day - Evening</td>\n",
       "      <td>7.63</td>\n",
       "      <td>Well below average</td>\n",
       "      <td>Medium</td>\n",
       "      <td>6.491070</td>\n",
       "      <td>4.16</td>\n",
       "    </tr>\n",
       "    <tr>\n",
       "      <th>2</th>\n",
       "      <td>0x6c17</td>\n",
       "      <td>Container Home</td>\n",
       "      <td>9.064718</td>\n",
       "      <td>1.0</td>\n",
       "      <td>2</td>\n",
       "      <td>Semi_Furnished</td>\n",
       "      <td>1.0</td>\n",
       "      <td>No</td>\n",
       "      <td>All time</td>\n",
       "      <td>5.39</td>\n",
       "      <td>Slightly above average</td>\n",
       "      <td>Medium</td>\n",
       "      <td>6.448232</td>\n",
       "      <td>2.92</td>\n",
       "    </tr>\n",
       "    <tr>\n",
       "      <th>3</th>\n",
       "      <td>0x9dbd</td>\n",
       "      <td>Apartment</td>\n",
       "      <td>8.676101</td>\n",
       "      <td>2.0</td>\n",
       "      <td>1</td>\n",
       "      <td>Semi_Furnished</td>\n",
       "      <td>1.0</td>\n",
       "      <td>No</td>\n",
       "      <td>All time</td>\n",
       "      <td>7.53</td>\n",
       "      <td>Slightly below average</td>\n",
       "      <td>Medium</td>\n",
       "      <td>7.593293</td>\n",
       "      <td>3.45</td>\n",
       "    </tr>\n",
       "    <tr>\n",
       "      <th>4</th>\n",
       "      <td>0xbfde</td>\n",
       "      <td>Bungalow</td>\n",
       "      <td>15.523886</td>\n",
       "      <td>12.0</td>\n",
       "      <td>4</td>\n",
       "      <td>Fully Furnished</td>\n",
       "      <td>0.0</td>\n",
       "      <td>No</td>\n",
       "      <td>All time</td>\n",
       "      <td>8.79</td>\n",
       "      <td>Well above average</td>\n",
       "      <td>High</td>\n",
       "      <td>7.944503</td>\n",
       "      <td>2.72</td>\n",
       "    </tr>\n",
       "  </tbody>\n",
       "</table>\n",
       "</div>"
      ],
      "text/plain": [
       "  Property_ID   Property_Type  Property_Area  Number_of_Windows  \\\n",
       "0      0x6e93       Apartment       8.970600                3.0   \n",
       "1      0x8787       Apartment      10.679538                4.0   \n",
       "2      0x6c17  Container Home       9.064718                1.0   \n",
       "3      0x9dbd       Apartment       8.676101                2.0   \n",
       "4      0xbfde        Bungalow      15.523886               12.0   \n",
       "\n",
       "   Number_of_Doors       Furnishing  Frequency_of_Powercuts Power_Backup  \\\n",
       "0                1      Unfurnished                     0.0           No   \n",
       "1                1   Semi_Furnished                     0.0           No   \n",
       "2                2   Semi_Furnished                     1.0           No   \n",
       "3                1   Semi_Furnished                     1.0           No   \n",
       "4                4  Fully Furnished                     0.0           No   \n",
       "\n",
       "              Water_Supply  Traffic_Density_Score              Crime_Rate  \\\n",
       "0  Once in a day - Morning                   7.28      Well above average   \n",
       "1  Once in a day - Evening                   7.63      Well below average   \n",
       "2                 All time                   5.39  Slightly above average   \n",
       "3                 All time                   7.53  Slightly below average   \n",
       "4                 All time                   8.79      Well above average   \n",
       "\n",
       "  Dust_and_Noise  Air_Quality_Index  Neighborhood_Review  \n",
       "0         Medium           7.511251                 2.52  \n",
       "1         Medium           6.491070                 4.16  \n",
       "2         Medium           6.448232                 2.92  \n",
       "3         Medium           7.593293                 3.45  \n",
       "4           High           7.944503                 2.72  "
      ]
     },
     "execution_count": 68,
     "metadata": {},
     "output_type": "execute_result"
    }
   ],
   "source": [
    "test.head()"
   ]
  },
  {
   "cell_type": "code",
   "execution_count": null,
   "id": "efd31a4c",
   "metadata": {},
   "outputs": [],
   "source": [
    "test1 = pd.get_dummies(test)"
   ]
  },
  {
   "cell_type": "code",
   "execution_count": 65,
   "id": "f5bc1ca9",
   "metadata": {},
   "outputs": [
    {
     "ename": "ValueError",
     "evalue": "Feature shape mismatch, expected: 22, got 14",
     "output_type": "error",
     "traceback": [
      "\u001b[1;31m---------------------------------------------------------------------------\u001b[0m",
      "\u001b[1;31mValueError\u001b[0m                                Traceback (most recent call last)",
      "\u001b[1;32m<ipython-input-65-94a450d50de9>\u001b[0m in \u001b[0;36m<module>\u001b[1;34m\u001b[0m\n\u001b[1;32m----> 1\u001b[1;33m \u001b[0mxgb_pred\u001b[0m \u001b[1;33m=\u001b[0m \u001b[0mnp\u001b[0m\u001b[1;33m.\u001b[0m\u001b[0mexpm1\u001b[0m\u001b[1;33m(\u001b[0m\u001b[0mmodel_xgb\u001b[0m\u001b[1;33m.\u001b[0m\u001b[0mpredict\u001b[0m\u001b[1;33m(\u001b[0m\u001b[0mtest\u001b[0m\u001b[1;33m)\u001b[0m\u001b[1;33m)\u001b[0m\u001b[1;33m\u001b[0m\u001b[1;33m\u001b[0m\u001b[0m\n\u001b[0m",
      "\u001b[1;32mC:\\ProgramData\\Anaconda3\\lib\\site-packages\\xgboost\\sklearn.py\u001b[0m in \u001b[0;36mpredict\u001b[1;34m(self, X, output_margin, ntree_limit, validate_features, base_margin, iteration_range)\u001b[0m\n\u001b[0;32m   1047\u001b[0m         \u001b[1;32mif\u001b[0m \u001b[0mself\u001b[0m\u001b[1;33m.\u001b[0m\u001b[0m_can_use_inplace_predict\u001b[0m\u001b[1;33m(\u001b[0m\u001b[1;33m)\u001b[0m\u001b[1;33m:\u001b[0m\u001b[1;33m\u001b[0m\u001b[1;33m\u001b[0m\u001b[0m\n\u001b[0;32m   1048\u001b[0m             \u001b[1;32mtry\u001b[0m\u001b[1;33m:\u001b[0m\u001b[1;33m\u001b[0m\u001b[1;33m\u001b[0m\u001b[0m\n\u001b[1;32m-> 1049\u001b[1;33m                 predts = self.get_booster().inplace_predict(\n\u001b[0m\u001b[0;32m   1050\u001b[0m                     \u001b[0mdata\u001b[0m\u001b[1;33m=\u001b[0m\u001b[0mX\u001b[0m\u001b[1;33m,\u001b[0m\u001b[1;33m\u001b[0m\u001b[1;33m\u001b[0m\u001b[0m\n\u001b[0;32m   1051\u001b[0m                     \u001b[0miteration_range\u001b[0m\u001b[1;33m=\u001b[0m\u001b[0miteration_range\u001b[0m\u001b[1;33m,\u001b[0m\u001b[1;33m\u001b[0m\u001b[1;33m\u001b[0m\u001b[0m\n",
      "\u001b[1;32mC:\\ProgramData\\Anaconda3\\lib\\site-packages\\xgboost\\core.py\u001b[0m in \u001b[0;36minplace_predict\u001b[1;34m(self, data, iteration_range, predict_type, missing, validate_features, base_margin, strict_shape)\u001b[0m\n\u001b[0;32m   2081\u001b[0m                 )\n\u001b[0;32m   2082\u001b[0m             \u001b[1;32mif\u001b[0m \u001b[0mlen\u001b[0m\u001b[1;33m(\u001b[0m\u001b[0mdata\u001b[0m\u001b[1;33m.\u001b[0m\u001b[0mshape\u001b[0m\u001b[1;33m)\u001b[0m \u001b[1;33m!=\u001b[0m \u001b[1;36m1\u001b[0m \u001b[1;32mand\u001b[0m \u001b[0mself\u001b[0m\u001b[1;33m.\u001b[0m\u001b[0mnum_features\u001b[0m\u001b[1;33m(\u001b[0m\u001b[1;33m)\u001b[0m \u001b[1;33m!=\u001b[0m \u001b[0mdata\u001b[0m\u001b[1;33m.\u001b[0m\u001b[0mshape\u001b[0m\u001b[1;33m[\u001b[0m\u001b[1;36m1\u001b[0m\u001b[1;33m]\u001b[0m\u001b[1;33m:\u001b[0m\u001b[1;33m\u001b[0m\u001b[1;33m\u001b[0m\u001b[0m\n\u001b[1;32m-> 2083\u001b[1;33m                 raise ValueError(\n\u001b[0m\u001b[0;32m   2084\u001b[0m                     \u001b[1;34mf\"Feature shape mismatch, expected: {self.num_features()}, \"\u001b[0m\u001b[1;33m\u001b[0m\u001b[1;33m\u001b[0m\u001b[0m\n\u001b[0;32m   2085\u001b[0m                     \u001b[1;34mf\"got {data.shape[1]}\"\u001b[0m\u001b[1;33m\u001b[0m\u001b[1;33m\u001b[0m\u001b[0m\n",
      "\u001b[1;31mValueError\u001b[0m: Feature shape mismatch, expected: 22, got 14"
     ]
    }
   ],
   "source": [
    "xgb_pred = np.expm1(model_xgb.predict(test))"
   ]
  },
  {
   "cell_type": "code",
   "execution_count": null,
   "id": "c7c86a84",
   "metadata": {},
   "outputs": [],
   "source": []
  },
  {
   "cell_type": "code",
   "execution_count": null,
   "id": "8036408f",
   "metadata": {},
   "outputs": [],
   "source": []
  }
 ],
 "metadata": {
  "kernelspec": {
   "display_name": "Python 3",
   "language": "python",
   "name": "python3"
  },
  "language_info": {
   "codemirror_mode": {
    "name": "ipython",
    "version": 3
   },
   "file_extension": ".py",
   "mimetype": "text/x-python",
   "name": "python",
   "nbconvert_exporter": "python",
   "pygments_lexer": "ipython3",
   "version": "3.8.8"
  }
 },
 "nbformat": 4,
 "nbformat_minor": 5
}
