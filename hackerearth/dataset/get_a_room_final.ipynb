{
 "cells": [
  {
   "cell_type": "code",
   "execution_count": 1,
   "id": "814adb8a",
   "metadata": {},
   "outputs": [],
   "source": [
    "import pandas as pd\n",
    "import matplotlib.pyplot as plt\n",
    "import seaborn as sns\n",
    "import numpy as np\n",
    "from scipy.stats import norm\n",
    "from sklearn.preprocessing import StandardScaler\n",
    "from scipy import stats\n",
    "from scipy.stats import norm, skew \n",
    "import warnings\n",
    "warnings.filterwarnings('ignore')\n",
    "%matplotlib inline"
   ]
  },
  {
   "cell_type": "code",
   "execution_count": 2,
   "id": "d7dad5ce",
   "metadata": {},
   "outputs": [],
   "source": [
    "df = pd.read_csv('train.csv')"
   ]
  },
  {
   "cell_type": "code",
   "execution_count": 3,
   "id": "c9360dd7",
   "metadata": {},
   "outputs": [],
   "source": [
    "test = pd.read_csv('test.csv')"
   ]
  },
  {
   "cell_type": "code",
   "execution_count": 4,
   "id": "9988327c",
   "metadata": {},
   "outputs": [],
   "source": [
    "y_train = df.Habitability_score.values"
   ]
  },
  {
   "cell_type": "code",
   "execution_count": 5,
   "id": "3fa88347",
   "metadata": {},
   "outputs": [],
   "source": [
    "df_to_train = df"
   ]
  },
  {
   "cell_type": "code",
   "execution_count": 6,
   "id": "b7f73cb1",
   "metadata": {},
   "outputs": [],
   "source": [
    "def transform_df(df):\n",
    "    df['Dust_and_Noise'] = df['Dust_and_Noise'].fillna(df['Dust_and_Noise'].mode()[0])\n",
    "    df['Furnishing'] = df['Furnishing'].fillna(df['Furnishing'].mode()[0])\n",
    "    df['Crime_Rate'] = df['Crime_Rate'].fillna(df['Crime_Rate'].mode()[0])\n",
    "    df[\"Number_of_Windows\"] = df[\"Number_of_Windows\"].fillna(0)\n",
    "    df[\"Frequency_of_Powercuts\"] = df[\"Frequency_of_Powercuts\"].fillna(0)"
   ]
  },
  {
   "cell_type": "code",
   "execution_count": 7,
   "id": "9f1eefd8",
   "metadata": {},
   "outputs": [],
   "source": [
    "transform_df(df_to_train)\n",
    "transform_df(test)"
   ]
  },
  {
   "cell_type": "code",
   "execution_count": 8,
   "id": "93d664d2",
   "metadata": {},
   "outputs": [
    {
     "data": {
      "text/html": [
       "<div>\n",
       "<style scoped>\n",
       "    .dataframe tbody tr th:only-of-type {\n",
       "        vertical-align: middle;\n",
       "    }\n",
       "\n",
       "    .dataframe tbody tr th {\n",
       "        vertical-align: top;\n",
       "    }\n",
       "\n",
       "    .dataframe thead th {\n",
       "        text-align: right;\n",
       "    }\n",
       "</style>\n",
       "<table border=\"1\" class=\"dataframe\">\n",
       "  <thead>\n",
       "    <tr style=\"text-align: right;\">\n",
       "      <th></th>\n",
       "      <th>Total</th>\n",
       "      <th>Percent</th>\n",
       "    </tr>\n",
       "  </thead>\n",
       "  <tbody>\n",
       "    <tr>\n",
       "      <th>Property_ID</th>\n",
       "      <td>0</td>\n",
       "      <td>0.0</td>\n",
       "    </tr>\n",
       "    <tr>\n",
       "      <th>Property_Type</th>\n",
       "      <td>0</td>\n",
       "      <td>0.0</td>\n",
       "    </tr>\n",
       "    <tr>\n",
       "      <th>Property_Area</th>\n",
       "      <td>0</td>\n",
       "      <td>0.0</td>\n",
       "    </tr>\n",
       "    <tr>\n",
       "      <th>Number_of_Windows</th>\n",
       "      <td>0</td>\n",
       "      <td>0.0</td>\n",
       "    </tr>\n",
       "    <tr>\n",
       "      <th>Number_of_Doors</th>\n",
       "      <td>0</td>\n",
       "      <td>0.0</td>\n",
       "    </tr>\n",
       "    <tr>\n",
       "      <th>Furnishing</th>\n",
       "      <td>0</td>\n",
       "      <td>0.0</td>\n",
       "    </tr>\n",
       "    <tr>\n",
       "      <th>Frequency_of_Powercuts</th>\n",
       "      <td>0</td>\n",
       "      <td>0.0</td>\n",
       "    </tr>\n",
       "    <tr>\n",
       "      <th>Power_Backup</th>\n",
       "      <td>0</td>\n",
       "      <td>0.0</td>\n",
       "    </tr>\n",
       "    <tr>\n",
       "      <th>Water_Supply</th>\n",
       "      <td>0</td>\n",
       "      <td>0.0</td>\n",
       "    </tr>\n",
       "    <tr>\n",
       "      <th>Traffic_Density_Score</th>\n",
       "      <td>0</td>\n",
       "      <td>0.0</td>\n",
       "    </tr>\n",
       "    <tr>\n",
       "      <th>Crime_Rate</th>\n",
       "      <td>0</td>\n",
       "      <td>0.0</td>\n",
       "    </tr>\n",
       "    <tr>\n",
       "      <th>Dust_and_Noise</th>\n",
       "      <td>0</td>\n",
       "      <td>0.0</td>\n",
       "    </tr>\n",
       "    <tr>\n",
       "      <th>Air_Quality_Index</th>\n",
       "      <td>0</td>\n",
       "      <td>0.0</td>\n",
       "    </tr>\n",
       "    <tr>\n",
       "      <th>Neighborhood_Review</th>\n",
       "      <td>0</td>\n",
       "      <td>0.0</td>\n",
       "    </tr>\n",
       "    <tr>\n",
       "      <th>Habitability_score</th>\n",
       "      <td>0</td>\n",
       "      <td>0.0</td>\n",
       "    </tr>\n",
       "  </tbody>\n",
       "</table>\n",
       "</div>"
      ],
      "text/plain": [
       "                        Total  Percent\n",
       "Property_ID                 0      0.0\n",
       "Property_Type               0      0.0\n",
       "Property_Area               0      0.0\n",
       "Number_of_Windows           0      0.0\n",
       "Number_of_Doors             0      0.0\n",
       "Furnishing                  0      0.0\n",
       "Frequency_of_Powercuts      0      0.0\n",
       "Power_Backup                0      0.0\n",
       "Water_Supply                0      0.0\n",
       "Traffic_Density_Score       0      0.0\n",
       "Crime_Rate                  0      0.0\n",
       "Dust_and_Noise              0      0.0\n",
       "Air_Quality_Index           0      0.0\n",
       "Neighborhood_Review         0      0.0\n",
       "Habitability_score          0      0.0"
      ]
     },
     "execution_count": 8,
     "metadata": {},
     "output_type": "execute_result"
    }
   ],
   "source": [
    "# check missing data\n",
    "total = df.isnull().sum().sort_values(ascending=False)\n",
    "percent = (df.isnull().sum()/df.isnull().count()).sort_values(ascending=False)\n",
    "missing_data = pd.concat([total, percent], axis=1, keys=['Total', 'Percent'])\n",
    "missing_data.head(20)"
   ]
  },
  {
   "cell_type": "code",
   "execution_count": 9,
   "id": "af69cb6e",
   "metadata": {},
   "outputs": [],
   "source": [
    "cleanup_nums = {\"Furnishing\":     {\"Semi_Furnished\": 1, \"Unfurnished\": 0, \"Fully Furnished\": 2},\n",
    "                    \"Power_Backup\": {\"No\": 0, \"Yes\": 1, \"NOT MENTIONED\": 0},\n",
    "                    \"Crime_Rate\": {\"Well below average\": 1, \"Slightly below average\": 0.8, \"Well above average\": 0, \"Slightly above average\": 0},\n",
    "                    \"Dust_and_Noise\": {\"High\": 0, \"Medium\": 0.7, \"Low\": 1}\n",
    "                    }\n",
    "df_to_train = df_to_train.replace(cleanup_nums)\n",
    "test = test.replace(cleanup_nums)"
   ]
  },
  {
   "cell_type": "code",
   "execution_count": 10,
   "id": "764bfd3f",
   "metadata": {},
   "outputs": [],
   "source": [
    "def fix_skew(df):\n",
    "    from scipy.special import boxcox1p\n",
    "    skewed_features = [\"Air_Quality_Index\",\"Property_Area\"]\n",
    "    lam = 0.15\n",
    "    for feat in skewed_features:\n",
    "        #all_data[feat] += 1\n",
    "        df[feat] = boxcox1p(df[feat], lam)"
   ]
  },
  {
   "cell_type": "code",
   "execution_count": 11,
   "id": "d38e059f",
   "metadata": {},
   "outputs": [],
   "source": [
    "fix_skew(test)\n",
    "fix_skew(df_to_train)"
   ]
  },
  {
   "cell_type": "code",
   "execution_count": 12,
   "id": "1d440859",
   "metadata": {},
   "outputs": [],
   "source": [
    "def check_skew(df):\n",
    "    numeric_feats = df.dtypes[df.dtypes != \"object\"].index\n",
    "\n",
    "    # Check the skew of all numerical features\n",
    "    skewed_feats = df[numeric_feats].apply(lambda x: skew(x.dropna())).sort_values(ascending=False)\n",
    "    print(\"\\nSkew in numerical features: \\n\")\n",
    "    skewness = pd.DataFrame({'Skew' :skewed_feats})\n",
    "    print(skewness.head(15))"
   ]
  },
  {
   "cell_type": "code",
   "execution_count": 13,
   "id": "9378aaf7",
   "metadata": {},
   "outputs": [
    {
     "name": "stdout",
     "output_type": "stream",
     "text": [
      "\n",
      "Skew in numerical features: \n",
      "\n",
      "                            Skew\n",
      "Number_of_Windows       1.701516\n",
      "Frequency_of_Powercuts  1.655591\n",
      "Power_Backup            1.355206\n",
      "Number_of_Doors         0.842488\n",
      "Property_Area           0.543492\n",
      "Furnishing              0.056805\n",
      "Traffic_Density_Score  -0.592793\n",
      "Neighborhood_Review    -0.724206\n",
      "Air_Quality_Index      -1.147192\n",
      "Crime_Rate             -1.341579\n",
      "Dust_and_Noise         -2.456831\n",
      "\n",
      "Skew in numerical features: \n",
      "\n",
      "                            Skew\n",
      "Number_of_Windows       1.678325\n",
      "Frequency_of_Powercuts  1.660208\n",
      "Power_Backup            1.305035\n",
      "Number_of_Doors         0.838949\n",
      "Property_Area           0.620820\n",
      "Furnishing              0.078435\n",
      "Traffic_Density_Score  -0.551835\n",
      "Neighborhood_Review    -0.730654\n",
      "Air_Quality_Index      -0.739742\n",
      "Crime_Rate             -1.360013\n",
      "Habitability_score     -1.553639\n",
      "Dust_and_Noise         -2.378065\n"
     ]
    }
   ],
   "source": [
    "check_skew(test)\n",
    "check_skew(df_to_train)"
   ]
  },
  {
   "cell_type": "code",
   "execution_count": 14,
   "id": "e4a80ed3",
   "metadata": {},
   "outputs": [],
   "source": [
    "df_to_train = df_to_train.iloc[: , 1:] #drop first column\n",
    "df_to_train = df_to_train.iloc[: , :-1] # drop last column\n",
    "# df_to_train2 = df_to_train[['Furnishing','Frequency_of_Powercuts','Power_Backup','Crime_Rate','Neighborhood_Review','Property_Area','Dust_and_Noise']]\n",
    "df_to_train = pd.get_dummies(df_to_train)"
   ]
  },
  {
   "cell_type": "code",
   "execution_count": 15,
   "id": "803d2083",
   "metadata": {},
   "outputs": [],
   "source": [
    "from sklearn.linear_model import ElasticNet, Lasso,  BayesianRidge, LassoLarsIC\n",
    "from sklearn.ensemble import RandomForestRegressor,  GradientBoostingRegressor\n",
    "from sklearn.kernel_ridge import KernelRidge\n",
    "from sklearn.pipeline import make_pipeline\n",
    "from sklearn.preprocessing import RobustScaler\n",
    "from sklearn.base import BaseEstimator, TransformerMixin, RegressorMixin, clone\n",
    "from sklearn.model_selection import KFold, cross_val_score, train_test_split\n",
    "from sklearn.metrics import mean_squared_error\n",
    "import xgboost as xgb\n",
    "import lightgbm as lgb"
   ]
  },
  {
   "cell_type": "code",
   "execution_count": 16,
   "id": "d0543959",
   "metadata": {},
   "outputs": [],
   "source": [
    "n_folds = 5\n",
    "\n",
    "def rmsle_cv(model):\n",
    "    kf = KFold(n_folds, shuffle=True, random_state=42).get_n_splits(df_to_train.values)\n",
    "    rmse= np.sqrt(-cross_val_score(model, df_to_train.values, y_train, scoring=\"neg_mean_squared_error\", cv = kf))\n",
    "    return(rmse)"
   ]
  },
  {
   "cell_type": "code",
   "execution_count": 17,
   "id": "473f5ccc",
   "metadata": {},
   "outputs": [],
   "source": [
    "model_xgb = xgb.XGBRegressor(colsample_bytree=0.4603, gamma=0.0468, \n",
    "                             learning_rate=0.05, max_depth=3, \n",
    "                             min_child_weight=1.7817, n_estimators=2200,\n",
    "                             reg_alpha=0.4640, reg_lambda=0.8571,\n",
    "                             subsample=0.5213, silent=1,\n",
    "                             random_state =7, nthread = -1)"
   ]
  },
  {
   "cell_type": "code",
   "execution_count": 18,
   "id": "e21fdcf6",
   "metadata": {},
   "outputs": [],
   "source": [
    "def rmsle(y, y_pred):\n",
    "    return np.sqrt(mean_squared_error(y, y_pred))"
   ]
  },
  {
   "cell_type": "code",
   "execution_count": 19,
   "id": "4ace350c",
   "metadata": {},
   "outputs": [],
   "source": [
    "from sklearn.metrics import r2_score\n",
    "def sasta_score(actual,predicted):\n",
    "    score = max(0,100*(r2_score(actual, predicted)))\n",
    "    return score\n",
    "#     score = max(0, 100*(r2_score(actual , predicted))"
   ]
  },
  {
   "cell_type": "code",
   "execution_count": 20,
   "id": "cb62d5f0",
   "metadata": {},
   "outputs": [
    {
     "name": "stdout",
     "output_type": "stream",
     "text": [
      "[13:55:43] WARNING: C:/Users/Administrator/workspace/xgboost-win64_release_1.6.0/src/learner.cc:627: \n",
      "Parameters: { \"silent\" } might not be used.\n",
      "\n",
      "  This could be a false alarm, with some parameters getting used by language bindings but\n",
      "  then being mistakenly passed down to XGBoost core, or some parameter actually being used\n",
      "  but getting flagged wrongly here. Please open an issue if you find any such cases.\n",
      "\n",
      "\n",
      "6.456339513940977\n",
      "79.0882191811469\n"
     ]
    }
   ],
   "source": [
    "model_xgb.fit(df_to_train, y_train)\n",
    "xgb_train_pred = model_xgb.predict(df_to_train)\n",
    "# xgb_pred = np.expm1(model_xgb.predict(test))\n",
    "print(rmsle(y_train, xgb_train_pred))\n",
    "print(sasta_score(y_train, xgb_train_pred))"
   ]
  },
  {
   "cell_type": "code",
   "execution_count": 23,
   "id": "be08e51c",
   "metadata": {},
   "outputs": [
    {
     "name": "stdout",
     "output_type": "stream",
     "text": [
      "<class 'pandas.core.frame.DataFrame'>\n",
      "RangeIndex: 39499 entries, 0 to 39498\n",
      "Data columns (total 22 columns):\n",
      " #   Column                                Non-Null Count  Dtype  \n",
      "---  ------                                --------------  -----  \n",
      " 0   Property_Area                         39499 non-null  float64\n",
      " 1   Number_of_Windows                     39499 non-null  float64\n",
      " 2   Number_of_Doors                       39499 non-null  int64  \n",
      " 3   Furnishing                            39499 non-null  int64  \n",
      " 4   Frequency_of_Powercuts                39499 non-null  float64\n",
      " 5   Power_Backup                          39499 non-null  int64  \n",
      " 6   Traffic_Density_Score                 39499 non-null  float64\n",
      " 7   Crime_Rate                            39499 non-null  float64\n",
      " 8   Dust_and_Noise                        39499 non-null  float64\n",
      " 9   Air_Quality_Index                     39499 non-null  float64\n",
      " 10  Neighborhood_Review                   39499 non-null  float64\n",
      " 11  Property_Type_#R%$G&867               39499 non-null  uint8  \n",
      " 12  Property_Type_Apartment               39499 non-null  uint8  \n",
      " 13  Property_Type_Bungalow                39499 non-null  uint8  \n",
      " 14  Property_Type_Container Home          39499 non-null  uint8  \n",
      " 15  Property_Type_Duplex                  39499 non-null  uint8  \n",
      " 16  Property_Type_Single-family home      39499 non-null  uint8  \n",
      " 17  Water_Supply_All time                 39499 non-null  uint8  \n",
      " 18  Water_Supply_NOT MENTIONED            39499 non-null  uint8  \n",
      " 19  Water_Supply_Once in a day - Evening  39499 non-null  uint8  \n",
      " 20  Water_Supply_Once in a day - Morning  39499 non-null  uint8  \n",
      " 21  Water_Supply_Once in two days         39499 non-null  uint8  \n",
      "dtypes: float64(8), int64(3), uint8(11)\n",
      "memory usage: 3.7 MB\n"
     ]
    }
   ],
   "source": [
    "df_to_train.info()"
   ]
  },
  {
   "cell_type": "code",
   "execution_count": 24,
   "id": "016493c2",
   "metadata": {},
   "outputs": [],
   "source": [
    "test_id = test['Property_ID']"
   ]
  },
  {
   "cell_type": "code",
   "execution_count": 25,
   "id": "70b228f3",
   "metadata": {},
   "outputs": [
    {
     "data": {
      "text/plain": [
       "0    0x6e93\n",
       "1    0x8787\n",
       "2    0x6c17\n",
       "3    0x9dbd\n",
       "4    0xbfde\n",
       "Name: Property_ID, dtype: object"
      ]
     },
     "execution_count": 25,
     "metadata": {},
     "output_type": "execute_result"
    }
   ],
   "source": [
    "test_id.head()"
   ]
  },
  {
   "cell_type": "code",
   "execution_count": 26,
   "id": "4b2ec080",
   "metadata": {},
   "outputs": [],
   "source": [
    "to_test = test.iloc[: , 1:]\n",
    "to_test = pd.get_dummies(to_test)"
   ]
  },
  {
   "cell_type": "code",
   "execution_count": 27,
   "id": "16ff91d3",
   "metadata": {},
   "outputs": [
    {
     "name": "stdout",
     "output_type": "stream",
     "text": [
      "<class 'pandas.core.frame.DataFrame'>\n",
      "RangeIndex: 10500 entries, 0 to 10499\n",
      "Data columns (total 22 columns):\n",
      " #   Column                                Non-Null Count  Dtype  \n",
      "---  ------                                --------------  -----  \n",
      " 0   Property_Area                         10500 non-null  float64\n",
      " 1   Number_of_Windows                     10500 non-null  float64\n",
      " 2   Number_of_Doors                       10500 non-null  int64  \n",
      " 3   Furnishing                            10500 non-null  int64  \n",
      " 4   Frequency_of_Powercuts                10500 non-null  float64\n",
      " 5   Power_Backup                          10500 non-null  int64  \n",
      " 6   Traffic_Density_Score                 10500 non-null  float64\n",
      " 7   Crime_Rate                            10500 non-null  float64\n",
      " 8   Dust_and_Noise                        10500 non-null  float64\n",
      " 9   Air_Quality_Index                     10500 non-null  float64\n",
      " 10  Neighborhood_Review                   10500 non-null  float64\n",
      " 11  Property_Type_#R%$G&867               10500 non-null  uint8  \n",
      " 12  Property_Type_Apartment               10500 non-null  uint8  \n",
      " 13  Property_Type_Bungalow                10500 non-null  uint8  \n",
      " 14  Property_Type_Container Home          10500 non-null  uint8  \n",
      " 15  Property_Type_Duplex                  10500 non-null  uint8  \n",
      " 16  Property_Type_Single-family home      10500 non-null  uint8  \n",
      " 17  Water_Supply_All time                 10500 non-null  uint8  \n",
      " 18  Water_Supply_NOT MENTIONED            10500 non-null  uint8  \n",
      " 19  Water_Supply_Once in a day - Evening  10500 non-null  uint8  \n",
      " 20  Water_Supply_Once in a day - Morning  10500 non-null  uint8  \n",
      " 21  Water_Supply_Once in two days         10500 non-null  uint8  \n",
      "dtypes: float64(8), int64(3), uint8(11)\n",
      "memory usage: 1015.3 KB\n"
     ]
    }
   ],
   "source": [
    "to_test.info()"
   ]
  },
  {
   "cell_type": "code",
   "execution_count": 28,
   "id": "693f3f89",
   "metadata": {},
   "outputs": [],
   "source": [
    "# Gotta fix test before i can pred it\n",
    "xgb_pred = model_xgb.predict(to_test)"
   ]
  },
  {
   "cell_type": "code",
   "execution_count": 35,
   "id": "7c6163a4",
   "metadata": {},
   "outputs": [],
   "source": [
    "prediction = pd.DataFrame(xgb_pred)"
   ]
  },
  {
   "cell_type": "code",
   "execution_count": 38,
   "id": "04a0f1eb",
   "metadata": {},
   "outputs": [],
   "source": [
    "prediction.insert(loc=0, column='Property_ID', value=test_id)"
   ]
  },
  {
   "cell_type": "code",
   "execution_count": 39,
   "id": "972edfd3",
   "metadata": {},
   "outputs": [
    {
     "data": {
      "text/html": [
       "<div>\n",
       "<style scoped>\n",
       "    .dataframe tbody tr th:only-of-type {\n",
       "        vertical-align: middle;\n",
       "    }\n",
       "\n",
       "    .dataframe tbody tr th {\n",
       "        vertical-align: top;\n",
       "    }\n",
       "\n",
       "    .dataframe thead th {\n",
       "        text-align: right;\n",
       "    }\n",
       "</style>\n",
       "<table border=\"1\" class=\"dataframe\">\n",
       "  <thead>\n",
       "    <tr style=\"text-align: right;\">\n",
       "      <th></th>\n",
       "      <th>Property_ID</th>\n",
       "      <th>0</th>\n",
       "    </tr>\n",
       "  </thead>\n",
       "  <tbody>\n",
       "    <tr>\n",
       "      <th>0</th>\n",
       "      <td>0x6e93</td>\n",
       "      <td>20.953127</td>\n",
       "    </tr>\n",
       "    <tr>\n",
       "      <th>1</th>\n",
       "      <td>0x8787</td>\n",
       "      <td>79.141479</td>\n",
       "    </tr>\n",
       "    <tr>\n",
       "      <th>2</th>\n",
       "      <td>0x6c17</td>\n",
       "      <td>66.007217</td>\n",
       "    </tr>\n",
       "    <tr>\n",
       "      <th>3</th>\n",
       "      <td>0x9dbd</td>\n",
       "      <td>71.774963</td>\n",
       "    </tr>\n",
       "    <tr>\n",
       "      <th>4</th>\n",
       "      <td>0xbfde</td>\n",
       "      <td>74.878807</td>\n",
       "    </tr>\n",
       "  </tbody>\n",
       "</table>\n",
       "</div>"
      ],
      "text/plain": [
       "  Property_ID          0\n",
       "0      0x6e93  20.953127\n",
       "1      0x8787  79.141479\n",
       "2      0x6c17  66.007217\n",
       "3      0x9dbd  71.774963\n",
       "4      0xbfde  74.878807"
      ]
     },
     "execution_count": 39,
     "metadata": {},
     "output_type": "execute_result"
    }
   ],
   "source": [
    "prediction.head()"
   ]
  },
  {
   "cell_type": "code",
   "execution_count": 42,
   "id": "a246f3c9",
   "metadata": {},
   "outputs": [],
   "source": [
    "prediction.rename(columns = {0:'Habitability_score'}, inplace = True)"
   ]
  },
  {
   "cell_type": "code",
   "execution_count": 43,
   "id": "b45505b5",
   "metadata": {},
   "outputs": [
    {
     "data": {
      "text/html": [
       "<div>\n",
       "<style scoped>\n",
       "    .dataframe tbody tr th:only-of-type {\n",
       "        vertical-align: middle;\n",
       "    }\n",
       "\n",
       "    .dataframe tbody tr th {\n",
       "        vertical-align: top;\n",
       "    }\n",
       "\n",
       "    .dataframe thead th {\n",
       "        text-align: right;\n",
       "    }\n",
       "</style>\n",
       "<table border=\"1\" class=\"dataframe\">\n",
       "  <thead>\n",
       "    <tr style=\"text-align: right;\">\n",
       "      <th></th>\n",
       "      <th>Property_ID</th>\n",
       "      <th>Habitability_score</th>\n",
       "    </tr>\n",
       "  </thead>\n",
       "  <tbody>\n",
       "    <tr>\n",
       "      <th>0</th>\n",
       "      <td>0x6e93</td>\n",
       "      <td>20.953127</td>\n",
       "    </tr>\n",
       "    <tr>\n",
       "      <th>1</th>\n",
       "      <td>0x8787</td>\n",
       "      <td>79.141479</td>\n",
       "    </tr>\n",
       "    <tr>\n",
       "      <th>2</th>\n",
       "      <td>0x6c17</td>\n",
       "      <td>66.007217</td>\n",
       "    </tr>\n",
       "    <tr>\n",
       "      <th>3</th>\n",
       "      <td>0x9dbd</td>\n",
       "      <td>71.774963</td>\n",
       "    </tr>\n",
       "    <tr>\n",
       "      <th>4</th>\n",
       "      <td>0xbfde</td>\n",
       "      <td>74.878807</td>\n",
       "    </tr>\n",
       "  </tbody>\n",
       "</table>\n",
       "</div>"
      ],
      "text/plain": [
       "  Property_ID  Habitability_score\n",
       "0      0x6e93           20.953127\n",
       "1      0x8787           79.141479\n",
       "2      0x6c17           66.007217\n",
       "3      0x9dbd           71.774963\n",
       "4      0xbfde           74.878807"
      ]
     },
     "execution_count": 43,
     "metadata": {},
     "output_type": "execute_result"
    }
   ],
   "source": [
    "prediction.head()"
   ]
  },
  {
   "cell_type": "code",
   "execution_count": 44,
   "id": "b4d30029",
   "metadata": {},
   "outputs": [
    {
     "name": "stdout",
     "output_type": "stream",
     "text": [
      "<class 'pandas.core.frame.DataFrame'>\n",
      "RangeIndex: 10500 entries, 0 to 10499\n",
      "Data columns (total 2 columns):\n",
      " #   Column              Non-Null Count  Dtype  \n",
      "---  ------              --------------  -----  \n",
      " 0   Property_ID         10500 non-null  object \n",
      " 1   Habitability_score  10500 non-null  float32\n",
      "dtypes: float32(1), object(1)\n",
      "memory usage: 123.2+ KB\n"
     ]
    }
   ],
   "source": [
    "prediction.info()"
   ]
  },
  {
   "cell_type": "code",
   "execution_count": 45,
   "id": "df022d5a",
   "metadata": {},
   "outputs": [],
   "source": [
    "prediction.to_csv('submission.csv')"
   ]
  },
  {
   "cell_type": "code",
   "execution_count": null,
   "id": "30402239",
   "metadata": {},
   "outputs": [],
   "source": []
  },
  {
   "cell_type": "code",
   "execution_count": null,
   "id": "53e602ad",
   "metadata": {},
   "outputs": [],
   "source": []
  },
  {
   "cell_type": "code",
   "execution_count": null,
   "id": "cf3ed1c9",
   "metadata": {},
   "outputs": [],
   "source": []
  }
 ],
 "metadata": {
  "kernelspec": {
   "display_name": "Python 3",
   "language": "python",
   "name": "python3"
  },
  "language_info": {
   "codemirror_mode": {
    "name": "ipython",
    "version": 3
   },
   "file_extension": ".py",
   "mimetype": "text/x-python",
   "name": "python",
   "nbconvert_exporter": "python",
   "pygments_lexer": "ipython3",
   "version": "3.8.8"
  }
 },
 "nbformat": 4,
 "nbformat_minor": 5
}
